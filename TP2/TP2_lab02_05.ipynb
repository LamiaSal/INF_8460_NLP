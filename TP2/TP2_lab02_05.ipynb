{
  "nbformat": 4,
  "nbformat_minor": 5,
  "metadata": {
    "colab": {
      "name": "TP2_lab02_05.ipynb",
      "provenance": [],
      "collapsed_sections": [
        "mFi1X7erFn3t",
        "EeRdJMNLFxWe",
        "npTkfZDL4mUR",
        "iUIhDmnv4mUU",
        "ytV_HKONSQxO",
        "3i21miQfoGwz",
        "UCKkpbJDoMP4",
        "zsYUiFA1SeRO",
        "90x1gHGuSiC1",
        "cOsmbIZrbnLY",
        "QZTNHYpSSthk",
        "fR6fhf9CSzEG",
        "1taD2IttGQM5",
        "GGay4R85G6Et",
        "MFY2rBIo9p81"
      ]
    },
    "kernelspec": {
      "display_name": "Python 3",
      "language": "python",
      "name": "python3"
    },
    "language_info": {
      "codemirror_mode": {
        "name": "ipython",
        "version": 3
      },
      "file_extension": ".py",
      "mimetype": "text/x-python",
      "name": "python",
      "nbconvert_exporter": "python",
      "pygments_lexer": "ipython3",
      "version": "3.7.3"
    },
    "accelerator": "GPU"
  },
  "cells": [
    {
      "cell_type": "markdown",
      "metadata": {
        "id": "_-Hk8FA24mUB"
      },
      "source": [
        "### École Polytechnique de Montréal <br> Département Génie Informatique et Génie Logiciel <br>  INF8460 – Traitement automatique de la langue naturelle <br> \n",
        "# <center> TP2 INF8460 <br>  Automne 2021 </center>"
      ],
      "id": "_-Hk8FA24mUB"
    },
    {
      "cell_type": "markdown",
      "metadata": {
        "id": "BPHFu9Wt4mUK"
      },
      "source": [
        "## 1. DESCRIPTION\n",
        "Le but de ce TP est de comparer différents classificateurs que vous allez entraîner à reconnaitre le genre (masculin, féminin) d'un blogueur."
      ],
      "id": "BPHFu9Wt4mUK"
    },
    {
      "cell_type": "markdown",
      "metadata": {
        "id": "8V7pbDQC4mUL"
      },
      "source": [
        "## 2. LIBRAIRIES PERMISES\n",
        "- Jupyter notebook\n",
        "- NLTK\n",
        "- Numpy \n",
        "- Pandas\n",
        "- Sklearn\n",
        "- Keras\n",
        "\n",
        "Pour toute autre librairie, demandez à votre chargé de laboratoire via le forum du cours sur Moodle."
      ],
      "id": "8V7pbDQC4mUL"
    },
    {
      "cell_type": "markdown",
      "metadata": {
        "id": "98yMY4bb4mUM"
      },
      "source": [
        "## 3. INFRASTRUCTURE\n",
        "\n",
        "- Vous avez accès aux GPU du local L-4818. Dans ce cas, vous devez utiliser le dossier temp (voir le tutoriel VirtualEnv.pdf)\n",
        "- Vous pouvez aussi utiliser l’environnement Google Colab: https://colab.research.google.com/"
      ],
      "id": "98yMY4bb4mUM"
    },
    {
      "cell_type": "markdown",
      "metadata": {
        "id": "qzv34JsC4mUN"
      },
      "source": [
        "## 4. DESCRIPTION DES DONNEES\n",
        "\n",
        "Plusieurs fichiers au format csv sont disponibles et sont extraits de blogs échangés sur Blogger.com. Les données sont disponibles dans le répertoire data. \n",
        "\n",
        "Elles ont la forme suivante:\n",
        "- Train: contient 7 000 exemples de blogs écrits par des hommes et des femmes\n",
        "- Val: contient 1 000 exemples\n",
        "- Test: contient 2 000 exemples"
      ],
      "id": "qzv34JsC4mUN"
    },
    {
      "cell_type": "markdown",
      "metadata": {
        "id": "zA3iBbW14mUO"
      },
      "source": [
        "## 5. ETAPES DU TP \n",
        "À partir du présent notebook inf8460_A21_TP2, vous devez réaliser les étapes suivantes. (Noter que les cellules sont là à titre informatif, il est fort probable que vous rajoutiez des sections au fur et à mesure de votre TP)."
      ],
      "id": "zA3iBbW14mUO"
    },
    {
      "cell_type": "markdown",
      "metadata": {
        "id": "s4THXuLK4mUO"
      },
      "source": [
        "Ci-dessous définir la constante _PATH_ qui doit être utilisée par votre code pour accéder aux fichiers. Il est attendu que pour la correction, le chargé de lab n'ait qu'à changer la valeur de _PATH_ pour le répertoire où se trouver les fichiers de datasets."
      ],
      "id": "s4THXuLK4mUO"
    },
    {
      "cell_type": "code",
      "metadata": {
        "id": "ndfso90I4mUP"
      },
      "source": [
        "#PATH = \"drive/MyDrive/TPS/TP2\"\n",
        "PATH = \"drive/MyDrive/POLY/INF8460/TPS/TP2\""
      ],
      "id": "ndfso90I4mUP",
      "execution_count": 1,
      "outputs": []
    },
    {
      "cell_type": "code",
      "metadata": {
        "colab": {
          "base_uri": "https://localhost:8080/"
        },
        "id": "A0zq3lNl2cZW",
        "outputId": "f3dbcf0a-01c1-4d56-f5c0-4c08b8829dc8"
      },
      "source": [
        "from google.colab import drive\n",
        "import os\n",
        "\n",
        "drive.mount('/content/drive')\n",
        "os.chdir(PATH)"
      ],
      "id": "A0zq3lNl2cZW",
      "execution_count": 2,
      "outputs": [
        {
          "output_type": "stream",
          "name": "stdout",
          "text": [
            "Mounted at /content/drive\n"
          ]
        }
      ]
    },
    {
      "cell_type": "markdown",
      "metadata": {
        "id": "mFi1X7erFn3t"
      },
      "source": [
        "#### importation des librairies pour les modèles traditionnelles"
      ],
      "id": "mFi1X7erFn3t"
    },
    {
      "cell_type": "code",
      "metadata": {
        "id": "dnLghrwK5nfN"
      },
      "source": [
        "import pandas as pd\n",
        "import matplotlib.pyplot as plt\n",
        "import numpy as np\n",
        "import os\n",
        "import nltk\n",
        "from nltk.tokenize import word_tokenize\n",
        "from nltk.corpus import stopwords\n",
        "from nltk.probability import FreqDist\n",
        "from sklearn.feature_extraction.text import TfidfVectorizer, CountVectorizer, TfidfTransformer\n",
        "from sklearn.naive_bayes import MultinomialNB\n",
        "from sklearn.linear_model import LogisticRegression\n",
        "from sklearn.metrics import confusion_matrix, classification_report, accuracy_score\n",
        "from sklearn.model_selection import GridSearchCV\n",
        "from sklearn.pipeline import Pipeline\n",
        "#from sklearn import ..."
      ],
      "id": "dnLghrwK5nfN",
      "execution_count": 3,
      "outputs": []
    },
    {
      "cell_type": "markdown",
      "metadata": {
        "id": "EeRdJMNLFxWe"
      },
      "source": [
        "#### importation des librairies pour les modèles de machine learning"
      ],
      "id": "EeRdJMNLFxWe"
    },
    {
      "cell_type": "code",
      "metadata": {
        "id": "JpaxDrt_FmzD"
      },
      "source": [
        "from tensorflow import keras\n",
        "from tensorflow.keras import layers\n",
        "from sklearn.preprocessing import OneHotEncoder\n",
        "from keras.utils import *\n",
        "from keras.preprocessing.text import Tokenizer\n",
        "from keras.preprocessing.sequence import pad_sequences\n",
        "\n",
        "from keras.models import Sequential\n",
        "from keras import layers\n",
        "from keras import regularizers\n",
        "from keras import backend as K\n",
        "from keras.layers import Embedding\n",
        "from keras.callbacks import ModelCheckpoint, EarlyStopping\n",
        "from keras.models import load_model\n",
        "\n",
        "import codecs\n",
        "from tqdm import tqdm\n",
        "import gensim\n",
        "\n",
        "import string"
      ],
      "id": "JpaxDrt_FmzD",
      "execution_count": 4,
      "outputs": []
    },
    {
      "cell_type": "code",
      "metadata": {
        "id": "5KHNgqXT7_gP",
        "colab": {
          "base_uri": "https://localhost:8080/"
        },
        "outputId": "466df7af-10cb-46b3-a552-b347da1d2826"
      },
      "source": [
        "nltk.download(\"stopwords\")\n",
        "nltk.download(\"punkt\")\n",
        "nltk.download(\"wordnet\")"
      ],
      "id": "5KHNgqXT7_gP",
      "execution_count": 5,
      "outputs": [
        {
          "output_type": "stream",
          "name": "stdout",
          "text": [
            "[nltk_data] Downloading package stopwords to /root/nltk_data...\n",
            "[nltk_data]   Unzipping corpora/stopwords.zip.\n",
            "[nltk_data] Downloading package punkt to /root/nltk_data...\n",
            "[nltk_data]   Unzipping tokenizers/punkt.zip.\n",
            "[nltk_data] Downloading package wordnet to /root/nltk_data...\n",
            "[nltk_data]   Unzipping corpora/wordnet.zip.\n"
          ]
        },
        {
          "output_type": "execute_result",
          "data": {
            "text/plain": [
              "True"
            ]
          },
          "metadata": {},
          "execution_count": 5
        }
      ]
    },
    {
      "cell_type": "markdown",
      "metadata": {
        "id": "npTkfZDL4mUR"
      },
      "source": [
        "### 5.1. prétraitement et description des données (10%)\n",
        "\n",
        "1. (4 points) Effectuez le pré-traitement suivant sur le champ *text*: convertir le texte en minuscules, supprimer les stopwords et gardez les signes de ponctuation."
      ],
      "id": "npTkfZDL4mUR"
    },
    {
      "cell_type": "code",
      "metadata": {
        "id": "Is3m7yeJ4mUS",
        "colab": {
          "base_uri": "https://localhost:8080/",
          "height": 0
        },
        "outputId": "3314cd93-4ed5-4d0e-d6a2-7bf4d060d631"
      },
      "source": [
        "train_data = pd.read_csv(\"train.csv\")\n",
        "train_data"
      ],
      "id": "Is3m7yeJ4mUS",
      "execution_count": 6,
      "outputs": [
        {
          "output_type": "execute_result",
          "data": {
            "text/html": [
              "<div>\n",
              "<style scoped>\n",
              "    .dataframe tbody tr th:only-of-type {\n",
              "        vertical-align: middle;\n",
              "    }\n",
              "\n",
              "    .dataframe tbody tr th {\n",
              "        vertical-align: top;\n",
              "    }\n",
              "\n",
              "    .dataframe thead th {\n",
              "        text-align: right;\n",
              "    }\n",
              "</style>\n",
              "<table border=\"1\" class=\"dataframe\">\n",
              "  <thead>\n",
              "    <tr style=\"text-align: right;\">\n",
              "      <th></th>\n",
              "      <th>id</th>\n",
              "      <th>gender</th>\n",
              "      <th>topic</th>\n",
              "      <th>text</th>\n",
              "    </tr>\n",
              "  </thead>\n",
              "  <tbody>\n",
              "    <tr>\n",
              "      <th>0</th>\n",
              "      <td>883178</td>\n",
              "      <td>male</td>\n",
              "      <td>Fashion</td>\n",
              "      <td>I Think I'm Going to Hyperventilat...</td>\n",
              "    </tr>\n",
              "    <tr>\n",
              "      <th>1</th>\n",
              "      <td>1103575</td>\n",
              "      <td>female</td>\n",
              "      <td>indUnk</td>\n",
              "      <td>I blogged out on xanga... silly Rachel....</td>\n",
              "    </tr>\n",
              "    <tr>\n",
              "      <th>2</th>\n",
              "      <td>4192173</td>\n",
              "      <td>male</td>\n",
              "      <td>Technology</td>\n",
              "      <td>Literally. As I type this at 4:40...</td>\n",
              "    </tr>\n",
              "    <tr>\n",
              "      <th>3</th>\n",
              "      <td>883178</td>\n",
              "      <td>male</td>\n",
              "      <td>Fashion</td>\n",
              "      <td>Don't Buy a Skirt on Sale   So I g...</td>\n",
              "    </tr>\n",
              "    <tr>\n",
              "      <th>4</th>\n",
              "      <td>649790</td>\n",
              "      <td>female</td>\n",
              "      <td>indUnk</td>\n",
              "      <td>New Silly Song ahead...  The sun...</td>\n",
              "    </tr>\n",
              "    <tr>\n",
              "      <th>...</th>\n",
              "      <td>...</td>\n",
              "      <td>...</td>\n",
              "      <td>...</td>\n",
              "      <td>...</td>\n",
              "    </tr>\n",
              "    <tr>\n",
              "      <th>6995</th>\n",
              "      <td>589736</td>\n",
              "      <td>male</td>\n",
              "      <td>Technology</td>\n",
              "      <td>ben, where did you find that wacko ...</td>\n",
              "    </tr>\n",
              "    <tr>\n",
              "      <th>6996</th>\n",
              "      <td>1103575</td>\n",
              "      <td>female</td>\n",
              "      <td>indUnk</td>\n",
              "      <td>that's amazing. spring break this week....</td>\n",
              "    </tr>\n",
              "    <tr>\n",
              "      <th>6997</th>\n",
              "      <td>2844168</td>\n",
              "      <td>female</td>\n",
              "      <td>Marketing</td>\n",
              "      <td>When I was in elementary scho...</td>\n",
              "    </tr>\n",
              "    <tr>\n",
              "      <th>6998</th>\n",
              "      <td>883178</td>\n",
              "      <td>male</td>\n",
              "      <td>Fashion</td>\n",
              "      <td>I had to change my cell phone numb...</td>\n",
              "    </tr>\n",
              "    <tr>\n",
              "      <th>6999</th>\n",
              "      <td>589736</td>\n",
              "      <td>male</td>\n",
              "      <td>Technology</td>\n",
              "      <td>everything all the time</td>\n",
              "    </tr>\n",
              "  </tbody>\n",
              "</table>\n",
              "<p>7000 rows × 4 columns</p>\n",
              "</div>"
            ],
            "text/plain": [
              "           id  ...                                               text\n",
              "0      883178  ...              I Think I'm Going to Hyperventilat...\n",
              "1     1103575  ...         I blogged out on xanga... silly Rachel....\n",
              "2     4192173  ...               Literally. As I type this at 4:40...\n",
              "3      883178  ...              Don't Buy a Skirt on Sale   So I g...\n",
              "4      649790  ...                New Silly Song ahead...  The sun...\n",
              "...       ...  ...                                                ...\n",
              "6995   589736  ...             ben, where did you find that wacko ...\n",
              "6996  1103575  ...         that's amazing. spring break this week....\n",
              "6997  2844168  ...                   When I was in elementary scho...\n",
              "6998   883178  ...              I had to change my cell phone numb...\n",
              "6999   589736  ...                   everything all the time         \n",
              "\n",
              "[7000 rows x 4 columns]"
            ]
          },
          "metadata": {},
          "execution_count": 6
        }
      ]
    },
    {
      "cell_type": "code",
      "metadata": {
        "id": "71FnKRWI7KWh"
      },
      "source": [
        "val_data = pd.read_csv(\"valid.csv\")\n",
        "test_data = pd.read_csv(\"test.csv\")"
      ],
      "id": "71FnKRWI7KWh",
      "execution_count": 7,
      "outputs": []
    },
    {
      "cell_type": "code",
      "metadata": {
        "id": "6EAXnf027xlO"
      },
      "source": [
        "# Conversion en minuscules\n",
        "def lower_case(data):\n",
        "  liste_lower = []\n",
        "  for word in data:\n",
        "    liste_lower.append(word.lower())\n",
        "  return liste_lower\n",
        "\n",
        "# Segmentation\n",
        "def segm(data):\n",
        "  return nltk.word_tokenize(data)\n",
        "\n",
        "# Suppression des stopwords\n",
        "def rm_stopwords(segm_data):\n",
        "  stopwords_english = stopwords.words('english')\n",
        "  data_cleaned = []\n",
        "  for word in segm_data:\n",
        "    if (word not in stopwords_english ): # mots fréquents qui montre un sentiment \"!\",'...','?'\n",
        "        data_cleaned.append(word)\n",
        "  return data_cleaned\n",
        "\n",
        "# Lemmatisation\n",
        "def lemmatize(corpus):\n",
        "  lemmzer = nltk.WordNetLemmatizer()\n",
        "  return [lemmzer.lemmatize(token) for token in corpus]"
      ],
      "id": "6EAXnf027xlO",
      "execution_count": 8,
      "outputs": []
    },
    {
      "cell_type": "code",
      "metadata": {
        "id": "mZlOHoLg8J2l"
      },
      "source": [
        "# Application du prétraitement sur les paragraphes et les questions\n",
        "\n",
        "def preprocess(df, index):\n",
        "  df[\"pre_tokens\"] = df[index].apply(nltk.word_tokenize)\n",
        "  df['lower_case'] = df['pre_tokens'].apply(lower_case)\n",
        "  df['tokens'] = df['lower_case'].apply(rm_stopwords)\n",
        "  #df['tokens'] = df['no_stopwords'].apply(lemmatize)\n",
        "  df['text_final'] = df['tokens'].apply(' '.join)\n",
        "  return df"
      ],
      "id": "mZlOHoLg8J2l",
      "execution_count": 9,
      "outputs": []
    },
    {
      "cell_type": "code",
      "metadata": {
        "id": "kz0oqRCj9GnH"
      },
      "source": [
        "train_data = preprocess(train_data, \"text\")\n",
        "val_data = preprocess(val_data, \"text\")\n",
        "test_data = preprocess(test_data, \"text\")"
      ],
      "id": "kz0oqRCj9GnH",
      "execution_count": 10,
      "outputs": []
    },
    {
      "cell_type": "markdown",
      "metadata": {
        "id": "BrWFemRp4mUT"
      },
      "source": [
        "2. (3 points) Calculez les statistiques suivantes: Nombre total de types; Nombre total de types/genre; top 20 des types les plus fréquents par genre (male/female)."
      ],
      "id": "BrWFemRp4mUT"
    },
    {
      "cell_type": "code",
      "metadata": {
        "id": "tRRZLIzO-TfJ"
      },
      "source": [
        "# Fonction utile pour transformer une liste de sous listes en une seule liste contenant tout les items de ces sous listes\n",
        "def flatten(t):\n",
        "    return [item for sublist in t for item in sublist]\n",
        "\n",
        "# Fonction pour afficher les clefs les plus fréquentes d'un dictionnaire de fréquence\n",
        "def most_frequent(dic, N):\n",
        "  return [elt[0] for elt in sorted(males_types.items(), key=lambda x: x[1])][-N:]"
      ],
      "id": "tRRZLIzO-TfJ",
      "execution_count": 11,
      "outputs": []
    },
    {
      "cell_type": "code",
      "metadata": {
        "id": "Si7Riab54mUT",
        "colab": {
          "base_uri": "https://localhost:8080/"
        },
        "outputId": "5678639f-6eec-44ed-8acc-7ad1fc9cced9"
      },
      "source": [
        "vocab_size = len(set(flatten(train_data['tokens'])))\n",
        "print(\"Nb type:\", vocab_size)\n",
        "males_types = FreqDist(flatten(train_data[train_data[\"gender\"] == \"male\"]['tokens']))\n",
        "females_types = FreqDist(flatten(train_data[train_data[\"gender\"] == \"female\"]['tokens']))\n",
        "print(f\"Nb type male: {len(males_types.keys())} / Nb type female: {len(females_types.keys())}\")\n",
        "print(f\"Most frequent types for males : {most_frequent(males_types, 20)}\")\n",
        "print(f\"Most frequent types for males : {most_frequent(females_types, 20)}\")"
      ],
      "id": "Si7Riab54mUT",
      "execution_count": 12,
      "outputs": [
        {
          "output_type": "stream",
          "name": "stdout",
          "text": [
            "Nb type: 54164\n",
            "Nb type male: 36574 / Nb type female: 33125\n",
            "Most frequent types for males : ['&', 'time', 'get', 'would', '-', ';', \"'m\", 'one', 'like', ':', \"n't\", '!', \"'\", '(', '?', '...', ')', \"'s\", ',', '.']\n",
            "Most frequent types for males : ['&', 'time', 'get', 'would', '-', ';', \"'m\", 'one', 'like', ':', \"n't\", '!', \"'\", '(', '?', '...', ')', \"'s\", ',', '.']\n"
          ]
        }
      ]
    },
    {
      "cell_type": "markdown",
      "metadata": {
        "id": "dq2sbiUL4mUU"
      },
      "source": [
        "3. (3 points) Dans deux figures séparées, affichez la distribution des sujets (topics) en termes de fréquence pour les hommes (male) et les femmes (female)."
      ],
      "id": "dq2sbiUL4mUU"
    },
    {
      "cell_type": "code",
      "metadata": {
        "id": "dxjKTzNO4mUU",
        "colab": {
          "base_uri": "https://localhost:8080/",
          "height": 0
        },
        "outputId": "ac483b2f-ac8e-48f5-a08c-119995c0d2e2"
      },
      "source": [
        "topics_males = sorted(FreqDist(train_data[train_data[\"gender\"] == \"male\"]['topic'].values).items(), key=lambda x: x[1], reverse=True)\n",
        "topics_female = sorted(FreqDist(train_data[train_data[\"gender\"] == \"female\"]['topic'].values).items(), key=lambda x: x[1], reverse=True)\n",
        "f, axes = plt.subplots(1,2)\n",
        "X, Y = zip(*topics_males)\n",
        "axes[0].set_title('Males')\n",
        "axes[0].bar(X, Y)\n",
        "axes[0].tick_params(labelrotation=80)\n",
        "X, Y = zip(*topics_female)\n",
        "axes[1].set_title('Females')\n",
        "axes[1].bar(X, Y)\n",
        "axes[1].tick_params(labelrotation=80)\n",
        "f.set_size_inches(10,5)\n",
        "plt.show()"
      ],
      "id": "dxjKTzNO4mUU",
      "execution_count": 13,
      "outputs": [
        {
          "output_type": "display_data",
          "data": {
            "image/png": "[encoded data removed]",
            "text/plain": [
              "<Figure size 720x360 with 2 Axes>"
            ]
          },
          "metadata": {
            "needs_background": "light"
          }
        }
      ]
    },
    {
      "cell_type": "markdown",
      "metadata": {
        "id": "iUIhDmnv4mUU"
      },
      "source": [
        "### 5.2. Classification traditionnelle à base de textes (35%)"
      ],
      "id": "iUIhDmnv4mUU"
    },
    {
      "cell_type": "markdown",
      "metadata": {
        "id": "agJ3Nqq74mUV"
      },
      "source": [
        "1. (10 points) Implémentez un classificateur Naïve Bayes et de régression logistique avec sklearn se basant sur un modèle sac de mots unigrame du contenu des blogues, pondéré avec TF-IDF."
      ],
      "id": "agJ3Nqq74mUV"
    },
    {
      "cell_type": "code",
      "metadata": {
        "id": "-zjk-ZRFIwP-",
        "colab": {
          "base_uri": "https://localhost:8080/",
          "height": 572
        },
        "outputId": "afe51546-c4f7-45e5-bcdc-06b0a6d088ff"
      },
      "source": [
        "train_part1 = pd.concat([train_data, val_data])\n",
        "train_part1"
      ],
      "id": "-zjk-ZRFIwP-",
      "execution_count": null,
      "outputs": [
        {
          "output_type": "execute_result",
          "data": {
            "text/html": [
              "<div>\n",
              "<style scoped>\n",
              "    .dataframe tbody tr th:only-of-type {\n",
              "        vertical-align: middle;\n",
              "    }\n",
              "\n",
              "    .dataframe tbody tr th {\n",
              "        vertical-align: top;\n",
              "    }\n",
              "\n",
              "    .dataframe thead th {\n",
              "        text-align: right;\n",
              "    }\n",
              "</style>\n",
              "<table border=\"1\" class=\"dataframe\">\n",
              "  <thead>\n",
              "    <tr style=\"text-align: right;\">\n",
              "      <th></th>\n",
              "      <th>id</th>\n",
              "      <th>gender</th>\n",
              "      <th>topic</th>\n",
              "      <th>text</th>\n",
              "      <th>pre_tokens</th>\n",
              "      <th>lower_case</th>\n",
              "      <th>tokens</th>\n",
              "      <th>text_final</th>\n",
              "    </tr>\n",
              "  </thead>\n",
              "  <tbody>\n",
              "    <tr>\n",
              "      <th>0</th>\n",
              "      <td>883178</td>\n",
              "      <td>male</td>\n",
              "      <td>Fashion</td>\n",
              "      <td>I Think I'm Going to Hyperventilat...</td>\n",
              "      <td>[I, Think, I, 'm, Going, to, Hyperventilate, I...</td>\n",
              "      <td>[i, think, i, 'm, going, to, hyperventilate, i...</td>\n",
              "      <td>[think, 'm, going, hyperventilate, found, tick...</td>\n",
              "      <td>think 'm going hyperventilate found tickets go...</td>\n",
              "    </tr>\n",
              "    <tr>\n",
              "      <th>1</th>\n",
              "      <td>1103575</td>\n",
              "      <td>female</td>\n",
              "      <td>indUnk</td>\n",
              "      <td>I blogged out on xanga... silly Rachel....</td>\n",
              "      <td>[I, blogged, out, on, xanga, ..., silly, Rache...</td>\n",
              "      <td>[i, blogged, out, on, xanga, ..., silly, rache...</td>\n",
              "      <td>[blogged, xanga, ..., silly, rachel, .]</td>\n",
              "      <td>blogged xanga ... silly rachel .</td>\n",
              "    </tr>\n",
              "    <tr>\n",
              "      <th>2</th>\n",
              "      <td>4192173</td>\n",
              "      <td>male</td>\n",
              "      <td>Technology</td>\n",
              "      <td>Literally. As I type this at 4:40...</td>\n",
              "      <td>[Literally, ., As, I, type, this, at, 4:40, a....</td>\n",
              "      <td>[literally, ., as, i, type, this, at, 4:40, a....</td>\n",
              "      <td>[literally, ., type, 4:40, a.m., tuesday, ,, b...</td>\n",
              "      <td>literally . type 4:40 a.m. tuesday , burning d...</td>\n",
              "    </tr>\n",
              "    <tr>\n",
              "      <th>3</th>\n",
              "      <td>883178</td>\n",
              "      <td>male</td>\n",
              "      <td>Fashion</td>\n",
              "      <td>Don't Buy a Skirt on Sale   So I g...</td>\n",
              "      <td>[Do, n't, Buy, a, Skirt, on, Sale, So, I, go, ...</td>\n",
              "      <td>[do, n't, buy, a, skirt, on, sale, so, i, go, ...</td>\n",
              "      <td>[n't, buy, skirt, sale, go, urllink, anthropol...</td>\n",
              "      <td>n't buy skirt sale go urllink anthropologie , ...</td>\n",
              "    </tr>\n",
              "    <tr>\n",
              "      <th>4</th>\n",
              "      <td>649790</td>\n",
              "      <td>female</td>\n",
              "      <td>indUnk</td>\n",
              "      <td>New Silly Song ahead...  The sun...</td>\n",
              "      <td>[New, Silly, Song, ahead, ..., The, sun, 's, s...</td>\n",
              "      <td>[new, silly, song, ahead, ..., the, sun, 's, s...</td>\n",
              "      <td>[new, silly, song, ahead, ..., sun, 's, shing,...</td>\n",
              "      <td>new silly song ahead ... sun 's shing outside ...</td>\n",
              "    </tr>\n",
              "    <tr>\n",
              "      <th>...</th>\n",
              "      <td>...</td>\n",
              "      <td>...</td>\n",
              "      <td>...</td>\n",
              "      <td>...</td>\n",
              "      <td>...</td>\n",
              "      <td>...</td>\n",
              "      <td>...</td>\n",
              "      <td>...</td>\n",
              "    </tr>\n",
              "    <tr>\n",
              "      <th>995</th>\n",
              "      <td>589736</td>\n",
              "      <td>male</td>\n",
              "      <td>Technology</td>\n",
              "      <td>what's wrong angie?</td>\n",
              "      <td>[what, 's, wrong, angie, ?]</td>\n",
              "      <td>[what, 's, wrong, angie, ?]</td>\n",
              "      <td>['s, wrong, angie, ?]</td>\n",
              "      <td>'s wrong angie ?</td>\n",
              "    </tr>\n",
              "    <tr>\n",
              "      <th>996</th>\n",
              "      <td>589736</td>\n",
              "      <td>male</td>\n",
              "      <td>Technology</td>\n",
              "      <td>Once the party discovers what happened to C...</td>\n",
              "      <td>[Once, the, party, discovers, what, happened, ...</td>\n",
              "      <td>[once, the, party, discovers, what, happened, ...</td>\n",
              "      <td>[party, discovers, happened, castillion, (, my...</td>\n",
              "      <td>party discovers happened castillion ( mystery ...</td>\n",
              "    </tr>\n",
              "    <tr>\n",
              "      <th>997</th>\n",
              "      <td>589736</td>\n",
              "      <td>male</td>\n",
              "      <td>Technology</td>\n",
              "      <td>Thanks to The Powers That Be for se...</td>\n",
              "      <td>[Thanks, to, The, Powers, That, Be, for, sendi...</td>\n",
              "      <td>[thanks, to, the, powers, that, be, for, sendi...</td>\n",
              "      <td>[thanks, powers, sending, johnathan, take, car...</td>\n",
              "      <td>thanks powers sending johnathan take care 'm h...</td>\n",
              "    </tr>\n",
              "    <tr>\n",
              "      <th>998</th>\n",
              "      <td>766556</td>\n",
              "      <td>female</td>\n",
              "      <td>indUnk</td>\n",
              "      <td>Munday again  Well, I survived the wee...</td>\n",
              "      <td>[Munday, again, Well, ,, I, survived, the, wee...</td>\n",
              "      <td>[munday, again, well, ,, i, survived, the, wee...</td>\n",
              "      <td>[munday, well, ,, survived, weekend, 4, year, ...</td>\n",
              "      <td>munday well , survived weekend 4 year old diva...</td>\n",
              "    </tr>\n",
              "    <tr>\n",
              "      <th>999</th>\n",
              "      <td>3294430</td>\n",
              "      <td>male</td>\n",
              "      <td>Education</td>\n",
              "      <td>sunday is training day. will have to le...</td>\n",
              "      <td>[sunday, is, training, day, ., will, have, to,...</td>\n",
              "      <td>[sunday, is, training, day, ., will, have, to,...</td>\n",
              "      <td>[sunday, training, day, ., learn, several, com...</td>\n",
              "      <td>sunday training day . learn several commands '...</td>\n",
              "    </tr>\n",
              "  </tbody>\n",
              "</table>\n",
              "<p>8000 rows × 8 columns</p>\n",
              "</div>"
            ],
            "text/plain": [
              "          id  ...                                         text_final\n",
              "0     883178  ...  think 'm going hyperventilate found tickets go...\n",
              "1    1103575  ...                   blogged xanga ... silly rachel .\n",
              "2    4192173  ...  literally . type 4:40 a.m. tuesday , burning d...\n",
              "3     883178  ...  n't buy skirt sale go urllink anthropologie , ...\n",
              "4     649790  ...  new silly song ahead ... sun 's shing outside ...\n",
              "..       ...  ...                                                ...\n",
              "995   589736  ...                                   's wrong angie ?\n",
              "996   589736  ...  party discovers happened castillion ( mystery ...\n",
              "997   589736  ...  thanks powers sending johnathan take care 'm h...\n",
              "998   766556  ...  munday well , survived weekend 4 year old diva...\n",
              "999  3294430  ...  sunday training day . learn several commands '...\n",
              "\n",
              "[8000 rows x 8 columns]"
            ]
          },
          "metadata": {},
          "execution_count": 14
        }
      ]
    },
    {
      "cell_type": "code",
      "metadata": {
        "id": "TesSNN9C3WW5"
      },
      "source": [
        "#defining our targets\n",
        "y_test_part1 = test_data[\"gender\"].apply([\"male\", \"female\"].index).values\n",
        "y_train_part1 = train_part1[\"gender\"].apply([\"male\", \"female\"].index).values"
      ],
      "id": "TesSNN9C3WW5",
      "execution_count": null,
      "outputs": []
    },
    {
      "cell_type": "code",
      "metadata": {
        "id": "GAgXS0Xy4mUW"
      },
      "source": [
        "# TFIDF unigram\n",
        "vectorizer = TfidfVectorizer(max_features=5000)\n",
        "tfidf = vectorizer.fit_transform(train_part1['text_final'].values)\n",
        "\n",
        "# x_train unigram tfidf\n",
        "X_train1_part1 = tfidf.toarray()"
      ],
      "id": "GAgXS0Xy4mUW",
      "execution_count": null,
      "outputs": []
    },
    {
      "cell_type": "code",
      "metadata": {
        "id": "QF9NYNRTG7I3",
        "colab": {
          "base_uri": "https://localhost:8080/"
        },
        "outputId": "2403460f-0e8e-440b-8d00-4db0f42ae018"
      },
      "source": [
        "# naive modele on unigram\n",
        "gnb1 = MultinomialNB()\n",
        "gnb1.fit(X_train1_part1, y_train_part1)"
      ],
      "id": "QF9NYNRTG7I3",
      "execution_count": null,
      "outputs": [
        {
          "output_type": "execute_result",
          "data": {
            "text/plain": [
              "MultinomialNB(alpha=1.0, class_prior=None, fit_prior=True)"
            ]
          },
          "metadata": {},
          "execution_count": 17
        }
      ]
    },
    {
      "cell_type": "code",
      "metadata": {
        "id": "OqXHUczrHHrg",
        "colab": {
          "base_uri": "https://localhost:8080/"
        },
        "outputId": "7583fec1-a18d-4104-b788-9a8ceed63084"
      },
      "source": [
        "# logistic regression modele on unigram\n",
        "lr1 = LogisticRegression()\n",
        "lr1.fit(X_train1_part1, y_train_part1)"
      ],
      "id": "OqXHUczrHHrg",
      "execution_count": null,
      "outputs": [
        {
          "output_type": "execute_result",
          "data": {
            "text/plain": [
              "LogisticRegression(C=1.0, class_weight=None, dual=False, fit_intercept=True,\n",
              "                   intercept_scaling=1, l1_ratio=None, max_iter=100,\n",
              "                   multi_class='auto', n_jobs=None, penalty='l2',\n",
              "                   random_state=None, solver='lbfgs', tol=0.0001, verbose=0,\n",
              "                   warm_start=False)"
            ]
          },
          "metadata": {},
          "execution_count": 18
        }
      ]
    },
    {
      "cell_type": "markdown",
      "metadata": {
        "id": "z6X7eb2y4mUW"
      },
      "source": [
        "2. (10 points) Implémentez un classificateur Naïve Bayes et de régression logistique avec sklearn se basant sur un modèle sac de mots unigrame **et** bigramme du contenu des blogues, pondéré avec TF-IDF."
      ],
      "id": "z6X7eb2y4mUW"
    },
    {
      "cell_type": "code",
      "metadata": {
        "id": "ZMGgnvS8Gh8f"
      },
      "source": [
        "# TFIDF bigram\n",
        "vectorizer12 = TfidfVectorizer(ngram_range=(1,2), max_features=5000)\n",
        "tfidf12 = vectorizer12.fit_transform(train_part1['text_final'].values)\n",
        "\n",
        "# x_train bigram tfidf\n",
        "X_train2_part1 = tfidf12.toarray()"
      ],
      "id": "ZMGgnvS8Gh8f",
      "execution_count": null,
      "outputs": []
    },
    {
      "cell_type": "code",
      "metadata": {
        "id": "rBjDVwnvIBHk",
        "colab": {
          "base_uri": "https://localhost:8080/"
        },
        "outputId": "55fdd498-947e-4ace-c75d-a8ed606a1eae"
      },
      "source": [
        "# naive modele on bigram\n",
        "gnb2 = MultinomialNB()\n",
        "gnb2.fit(X_train2_part1, y_train_part1)"
      ],
      "id": "rBjDVwnvIBHk",
      "execution_count": null,
      "outputs": [
        {
          "output_type": "execute_result",
          "data": {
            "text/plain": [
              "MultinomialNB(alpha=1.0, class_prior=None, fit_prior=True)"
            ]
          },
          "metadata": {},
          "execution_count": 20
        }
      ]
    },
    {
      "cell_type": "code",
      "metadata": {
        "id": "q8CHDakyNNTw",
        "colab": {
          "base_uri": "https://localhost:8080/"
        },
        "outputId": "9805768a-5b85-49b7-9c68-fd859a71cc8e"
      },
      "source": [
        "# logistic regression on bigram\n",
        "lr2 = LogisticRegression()\n",
        "lr2.fit(X_train2_part1, y_train_part1)"
      ],
      "id": "q8CHDakyNNTw",
      "execution_count": null,
      "outputs": [
        {
          "output_type": "execute_result",
          "data": {
            "text/plain": [
              "LogisticRegression(C=1.0, class_weight=None, dual=False, fit_intercept=True,\n",
              "                   intercept_scaling=1, l1_ratio=None, max_iter=100,\n",
              "                   multi_class='auto', n_jobs=None, penalty='l2',\n",
              "                   random_state=None, solver='lbfgs', tol=0.0001, verbose=0,\n",
              "                   warm_start=False)"
            ]
          },
          "metadata": {},
          "execution_count": 21
        }
      ]
    },
    {
      "cell_type": "markdown",
      "metadata": {
        "id": "ss6Rl7en4mUZ"
      },
      "source": [
        "3. (5 points) Testez vos deux modèles et retournez les valeurs des métriques d’évaluation: précision globale (accuracy) et précision, rappel et F1-score par classe. Affichez aussi les macro moyennes pour toutes ces métriques."
      ],
      "id": "ss6Rl7en4mUZ"
    },
    {
      "cell_type": "code",
      "metadata": {
        "id": "1SIKXPbyIgrR"
      },
      "source": [
        "# tfidf on test set\n",
        "X_test1_part1 = vectorizer.transform(test_data[\"text_final\"]).toarray() #unigram\n",
        "X_test2_part1 = vectorizer12.transform(test_data[\"text_final\"]).toarray()#biigram\n",
        "\n",
        "# prediction of naive bayes modele on both unigram and bigram test set\n",
        "y_pred1_part1 = gnb1.predict(X_test1_part1)\n",
        "y_pred2_part1 = gnb2.predict(X_test2_part1)\n",
        "\n",
        "# prediction of logistic regression modele on both unigram and bigram test set\n",
        "y_pred3_part1 = lr1.predict(X_test1_part1)\n",
        "y_pred4_part1 = lr2.predict(X_test2_part1)"
      ],
      "id": "1SIKXPbyIgrR",
      "execution_count": null,
      "outputs": []
    },
    {
      "cell_type": "code",
      "metadata": {
        "id": "rz79bXT54mUa",
        "colab": {
          "base_uri": "https://localhost:8080/"
        },
        "outputId": "9bfdf38a-dd88-4395-cedc-15b336a57e31"
      },
      "source": [
        "C1 = confusion_matrix(y_pred1_part1, y_test_part1)\n",
        "C2 = confusion_matrix(y_pred2_part1, y_test_part1)\n",
        "C3 = confusion_matrix(y_pred3_part1, y_test_part1)\n",
        "C4 = confusion_matrix(y_pred4_part1, y_test_part1)\n",
        "print(\"Confusion matrix naive bayes for unigrams:\", C1, sep=\"\\n\")\n",
        "print(\"Confusion matrix naive bayes for unigrams and bigrams:\", C2, sep=\"\\n\")\n",
        "print(\"Confusion matrix logistic regression for unigrams:\", C3, sep=\"\\n\")\n",
        "print(\"Confusion matrix logistic regression for unigrams and bigrams:\", C4, sep=\"\\n\")"
      ],
      "id": "rz79bXT54mUa",
      "execution_count": null,
      "outputs": [
        {
          "output_type": "stream",
          "name": "stdout",
          "text": [
            "Confusion matrix naive bayes for unigrams:\n",
            "[[1040  302]\n",
            " [ 132  526]]\n",
            "Confusion matrix naive bayes for unigrams and bigrams:\n",
            "[[1035  306]\n",
            " [ 137  522]]\n",
            "Confusion matrix logistic regression for unigrams:\n",
            "[[1047  285]\n",
            " [ 125  543]]\n",
            "Confusion matrix logistic regression for unigrams and bigrams:\n",
            "[[1039  296]\n",
            " [ 133  532]]\n"
          ]
        }
      ]
    },
    {
      "cell_type": "code",
      "metadata": {
        "id": "flJHC2zqLxpR",
        "colab": {
          "base_uri": "https://localhost:8080/"
        },
        "outputId": "df564e31-23d0-4317-ed0b-70237a8e8541"
      },
      "source": [
        "print(\"naive bayes for unigrams\")\n",
        "print(classification_report(y_test_part1, y_pred1_part1))"
      ],
      "id": "flJHC2zqLxpR",
      "execution_count": null,
      "outputs": [
        {
          "output_type": "stream",
          "name": "stdout",
          "text": [
            "naive bayes for unigrams\n",
            "              precision    recall  f1-score   support\n",
            "\n",
            "           0       0.77      0.89      0.83      1172\n",
            "           1       0.80      0.64      0.71       828\n",
            "\n",
            "    accuracy                           0.78      2000\n",
            "   macro avg       0.79      0.76      0.77      2000\n",
            "weighted avg       0.79      0.78      0.78      2000\n",
            "\n"
          ]
        }
      ]
    },
    {
      "cell_type": "code",
      "metadata": {
        "id": "tQ2H5SFzOWv7",
        "colab": {
          "base_uri": "https://localhost:8080/"
        },
        "outputId": "ce35a2a1-3939-4f62-eca6-f766a9729896"
      },
      "source": [
        "print(\"naive bayes for unigrams and bigrams\")\n",
        "print(classification_report(y_test_part1, y_pred2_part1))"
      ],
      "id": "tQ2H5SFzOWv7",
      "execution_count": null,
      "outputs": [
        {
          "output_type": "stream",
          "name": "stdout",
          "text": [
            "naive bayes for unigrams and bigrams\n",
            "              precision    recall  f1-score   support\n",
            "\n",
            "           0       0.77      0.88      0.82      1172\n",
            "           1       0.79      0.63      0.70       828\n",
            "\n",
            "    accuracy                           0.78      2000\n",
            "   macro avg       0.78      0.76      0.76      2000\n",
            "weighted avg       0.78      0.78      0.77      2000\n",
            "\n"
          ]
        }
      ]
    },
    {
      "cell_type": "code",
      "metadata": {
        "id": "BF-lWcqnOXFk",
        "colab": {
          "base_uri": "https://localhost:8080/"
        },
        "outputId": "3649ecf2-0904-44f5-9496-358de641cdc6"
      },
      "source": [
        "print(\"logistic regression for unigrams\")\n",
        "print(classification_report(y_test_part1, y_pred3_part1))"
      ],
      "id": "BF-lWcqnOXFk",
      "execution_count": null,
      "outputs": [
        {
          "output_type": "stream",
          "name": "stdout",
          "text": [
            "logistic regression for unigrams\n",
            "              precision    recall  f1-score   support\n",
            "\n",
            "           0       0.79      0.89      0.84      1172\n",
            "           1       0.81      0.66      0.73       828\n",
            "\n",
            "    accuracy                           0.80      2000\n",
            "   macro avg       0.80      0.77      0.78      2000\n",
            "weighted avg       0.80      0.80      0.79      2000\n",
            "\n"
          ]
        }
      ]
    },
    {
      "cell_type": "code",
      "metadata": {
        "id": "nn4wEaE7OXNm",
        "colab": {
          "base_uri": "https://localhost:8080/"
        },
        "outputId": "e3cb6fba-403d-4472-b28a-fef64833a1af"
      },
      "source": [
        "print(\"logistic regression for unigrams and bigrams\")\n",
        "print(classification_report(y_test_part1, y_pred4_part1))"
      ],
      "id": "nn4wEaE7OXNm",
      "execution_count": null,
      "outputs": [
        {
          "output_type": "stream",
          "name": "stdout",
          "text": [
            "logistic regression for unigrams and bigrams\n",
            "              precision    recall  f1-score   support\n",
            "\n",
            "           0       0.78      0.89      0.83      1172\n",
            "           1       0.80      0.64      0.71       828\n",
            "\n",
            "    accuracy                           0.79      2000\n",
            "   macro avg       0.79      0.76      0.77      2000\n",
            "weighted avg       0.79      0.79      0.78      2000\n",
            "\n"
          ]
        }
      ]
    },
    {
      "cell_type": "markdown",
      "metadata": {
        "id": "9JB6VKkq4mUb"
      },
      "source": [
        "4. (10 points) Trouvez les paramètres optimaux en utilisant un pipeline et GridSearch. Retournez la configuration optimale et sa performance pour chaque algorithme (Naive Bayes, Régression logistique) avec cette configuration en testant les paramètres suivants: \n",
        "- Modèle basé sur les mots ou les caractères\n",
        "- Type de n-gramme (1, 2 et leur combinaison) \n",
        "- Utilisation ou non de TF-IDF\n",
        "- Minuscule avec TF-IDF ou non\n",
        "- Taille du vocabulaire: 5000, 10000, none\n",
        "- Pour Naive Bayes, testez différentes valeurs du paramètre alpha (bayes__alpha)\n",
        "- Pour la régression logistique, testez aussi différentes stratégies de régularisation (logistic_penalty)"
      ],
      "id": "9JB6VKkq4mUb"
    },
    {
      "cell_type": "code",
      "metadata": {
        "id": "7il8UAA0Q4Ke"
      },
      "source": [
        "# pipeline definition\n",
        "clf_nb = Pipeline([\n",
        "    ('vect', CountVectorizer()),\n",
        "    ('tfidf', TfidfTransformer()),\n",
        "    ('clf', MultinomialNB()),\n",
        "])\n",
        "\n",
        "# parameters\n",
        "parameters_nb = {\n",
        "    'vect__analyzer': [\"word\", \"char\"],\n",
        "    'vect__ngram_range': [(1, 1), (2, 2), (1, 2)],\n",
        "    'vect__lowercase': (True,False),\n",
        "    'vect__max_features': (5000,10000, None),\n",
        "    'tfidf__use_idf': (True, False),\n",
        "    'clf__alpha': (1e-1, 5e-2, 1e-2, 1e-3, 1e-4)\n",
        "}"
      ],
      "id": "7il8UAA0Q4Ke",
      "execution_count": null,
      "outputs": []
    },
    {
      "cell_type": "code",
      "metadata": {
        "id": "RWDPqQ6SSGkR",
        "colab": {
          "base_uri": "https://localhost:8080/"
        },
        "outputId": "696b7a2f-c4b7-4f2a-9e85-3102863ebb70"
      },
      "source": [
        "# Gridsearch for the naive bayes modele\n",
        "gs_clf_nb = GridSearchCV(clf_nb, parameters_nb, n_jobs=-1, verbose=10)\n",
        "gs_clf_nb.fit(train_part1[\"text\"], y_train_part1)\n",
        "y_pred_nb = gs_clf_nb.predict(test_data[\"text\"])\n",
        "\n",
        "print(\"Meilleurs paramètres trouvés:\\n\", gs_clf_nb.best_params_, \"\\n\")\n",
        "print(\"Meilleur score atteint:\\n\", gs_clf_nb.best_score_, \"\\n\")"
      ],
      "id": "RWDPqQ6SSGkR",
      "execution_count": null,
      "outputs": [
        {
          "output_type": "stream",
          "name": "stdout",
          "text": [
            "Fitting 5 folds for each of 360 candidates, totalling 1800 fits\n"
          ]
        },
        {
          "output_type": "stream",
          "name": "stderr",
          "text": [
            "[Parallel(n_jobs=-1)]: Using backend LokyBackend with 2 concurrent workers.\n",
            "[Parallel(n_jobs=-1)]: Done   1 tasks      | elapsed:    3.6s\n",
            "[Parallel(n_jobs=-1)]: Done   4 tasks      | elapsed:    5.7s\n",
            "[Parallel(n_jobs=-1)]: Done   9 tasks      | elapsed:   18.4s\n",
            "[Parallel(n_jobs=-1)]: Done  14 tasks      | elapsed:   34.7s\n",
            "[Parallel(n_jobs=-1)]: Done  21 tasks      | elapsed:   46.0s\n",
            "[Parallel(n_jobs=-1)]: Done  28 tasks      | elapsed:  1.1min\n",
            "[Parallel(n_jobs=-1)]: Done  37 tasks      | elapsed:  1.4min\n",
            "[Parallel(n_jobs=-1)]: Done  46 tasks      | elapsed:  1.8min\n",
            "[Parallel(n_jobs=-1)]: Done  57 tasks      | elapsed:  2.3min\n",
            "[Parallel(n_jobs=-1)]: Done  68 tasks      | elapsed:  2.7min\n",
            "[Parallel(n_jobs=-1)]: Done  81 tasks      | elapsed:  3.2min\n",
            "[Parallel(n_jobs=-1)]: Done  94 tasks      | elapsed:  3.8min\n",
            "[Parallel(n_jobs=-1)]: Done 109 tasks      | elapsed:  4.6min\n",
            "[Parallel(n_jobs=-1)]: Done 124 tasks      | elapsed:  5.4min\n",
            "[Parallel(n_jobs=-1)]: Done 141 tasks      | elapsed:  6.3min\n",
            "[Parallel(n_jobs=-1)]: Done 158 tasks      | elapsed:  7.2min\n",
            "[Parallel(n_jobs=-1)]: Done 177 tasks      | elapsed:  8.3min\n",
            "[Parallel(n_jobs=-1)]: Done 196 tasks      | elapsed:  9.0min\n",
            "[Parallel(n_jobs=-1)]: Done 217 tasks      | elapsed:  9.8min\n",
            "[Parallel(n_jobs=-1)]: Done 238 tasks      | elapsed: 10.7min\n",
            "[Parallel(n_jobs=-1)]: Done 261 tasks      | elapsed: 11.6min\n",
            "[Parallel(n_jobs=-1)]: Done 284 tasks      | elapsed: 12.8min\n",
            "[Parallel(n_jobs=-1)]: Done 309 tasks      | elapsed: 14.0min\n",
            "[Parallel(n_jobs=-1)]: Done 334 tasks      | elapsed: 15.3min\n",
            "[Parallel(n_jobs=-1)]: Done 361 tasks      | elapsed: 16.8min\n",
            "[Parallel(n_jobs=-1)]: Done 388 tasks      | elapsed: 17.9min\n",
            "[Parallel(n_jobs=-1)]: Done 417 tasks      | elapsed: 19.1min\n",
            "[Parallel(n_jobs=-1)]: Done 446 tasks      | elapsed: 20.3min\n",
            "[Parallel(n_jobs=-1)]: Done 477 tasks      | elapsed: 22.0min\n",
            "[Parallel(n_jobs=-1)]: Done 508 tasks      | elapsed: 23.6min\n",
            "[Parallel(n_jobs=-1)]: Done 541 tasks      | elapsed: 25.4min\n",
            "[Parallel(n_jobs=-1)]: Done 574 tasks      | elapsed: 26.6min\n",
            "[Parallel(n_jobs=-1)]: Done 609 tasks      | elapsed: 28.0min\n",
            "[Parallel(n_jobs=-1)]: Done 644 tasks      | elapsed: 29.8min\n",
            "[Parallel(n_jobs=-1)]: Done 681 tasks      | elapsed: 31.6min\n",
            "[Parallel(n_jobs=-1)]: Done 718 tasks      | elapsed: 33.6min\n",
            "[Parallel(n_jobs=-1)]: Done 757 tasks      | elapsed: 35.1min\n",
            "[Parallel(n_jobs=-1)]: Done 796 tasks      | elapsed: 36.8min\n",
            "[Parallel(n_jobs=-1)]: Done 837 tasks      | elapsed: 38.9min\n",
            "[Parallel(n_jobs=-1)]: Done 878 tasks      | elapsed: 41.0min\n",
            "[Parallel(n_jobs=-1)]: Done 921 tasks      | elapsed: 43.0min\n",
            "[Parallel(n_jobs=-1)]: Done 964 tasks      | elapsed: 44.8min\n",
            "[Parallel(n_jobs=-1)]: Done 1009 tasks      | elapsed: 46.8min\n",
            "[Parallel(n_jobs=-1)]: Done 1054 tasks      | elapsed: 49.2min\n",
            "[Parallel(n_jobs=-1)]: Done 1101 tasks      | elapsed: 51.4min\n",
            "[Parallel(n_jobs=-1)]: Done 1148 tasks      | elapsed: 53.4min\n",
            "[Parallel(n_jobs=-1)]: Done 1197 tasks      | elapsed: 55.8min\n",
            "[Parallel(n_jobs=-1)]: Done 1246 tasks      | elapsed: 58.4min\n",
            "[Parallel(n_jobs=-1)]: Done 1297 tasks      | elapsed: 60.5min\n",
            "[Parallel(n_jobs=-1)]: Done 1348 tasks      | elapsed: 62.8min\n",
            "[Parallel(n_jobs=-1)]: Done 1401 tasks      | elapsed: 65.5min\n",
            "[Parallel(n_jobs=-1)]: Done 1454 tasks      | elapsed: 68.2min\n",
            "[Parallel(n_jobs=-1)]: Done 1509 tasks      | elapsed: 70.4min\n",
            "[Parallel(n_jobs=-1)]: Done 1564 tasks      | elapsed: 73.1min\n",
            "[Parallel(n_jobs=-1)]: Done 1621 tasks      | elapsed: 76.2min\n",
            "[Parallel(n_jobs=-1)]: Done 1678 tasks      | elapsed: 78.5min\n",
            "[Parallel(n_jobs=-1)]: Done 1737 tasks      | elapsed: 81.2min\n",
            "[Parallel(n_jobs=-1)]: Done 1796 tasks      | elapsed: 84.3min\n",
            "[Parallel(n_jobs=-1)]: Done 1800 out of 1800 | elapsed: 84.6min finished\n"
          ]
        },
        {
          "output_type": "stream",
          "name": "stdout",
          "text": [
            "Meilleurs paramètres trouvés:\n",
            " {'clf__alpha': 0.1, 'tfidf__use_idf': True, 'vect__analyzer': 'word', 'vect__lowercase': False, 'vect__max_features': None, 'vect__ngram_range': (1, 1)} \n",
            "\n",
            "Meilleur score atteint:\n",
            " 0.8133750000000001 \n",
            "\n"
          ]
        }
      ]
    },
    {
      "cell_type": "code",
      "metadata": {
        "id": "qG_k1bo7FSd6",
        "colab": {
          "base_uri": "https://localhost:8080/",
          "height": 52
        },
        "outputId": "90571a9a-63ec-4deb-929b-218826d78f7b"
      },
      "source": [
        "\"\"\"\n",
        "Meilleurs paramètres trouvés:\n",
        " {'clf__alpha': 0.1, 'tfidf__use_idf': True, 'vect__analyzer': 'word', 'vect__lowercase': False, 'vect__max_features': None, 'vect__ngram_range': (1, 1)} \n",
        "Meilleur score atteint:\n",
        " 0.8133750000000001\n",
        "\"\"\""
      ],
      "id": "qG_k1bo7FSd6",
      "execution_count": null,
      "outputs": [
        {
          "output_type": "execute_result",
          "data": {
            "application/vnd.google.colaboratory.intrinsic+json": {
              "type": "string"
            },
            "text/plain": [
              "\"\\nMeilleurs paramètres trouvés:\\n {'clf__alpha': 0.1, 'tfidf__use_idf': True, 'vect__analyzer': 'word', 'vect__lowercase': False, 'vect__max_features': None, 'vect__ngram_range': (1, 1)} \\nMeilleur score atteint:\\n 0.8133750000000001\\n\""
            ]
          },
          "metadata": {},
          "execution_count": 30
        }
      ]
    },
    {
      "cell_type": "code",
      "metadata": {
        "id": "epgIhitGQM_F",
        "colab": {
          "base_uri": "https://localhost:8080/"
        },
        "outputId": "cf260ba8-6d8b-417c-b0a4-982398eef0c5"
      },
      "source": [
        "print(\"naive bayes for unigrams\")\n",
        "print(classification_report(y_test_part1, y_pred_nb))"
      ],
      "id": "epgIhitGQM_F",
      "execution_count": null,
      "outputs": [
        {
          "output_type": "stream",
          "name": "stdout",
          "text": [
            "naive bayes for unigrams\n",
            "              precision    recall  f1-score   support\n",
            "\n",
            "           0       0.81      0.88      0.85      1172\n",
            "           1       0.81      0.71      0.76       828\n",
            "\n",
            "    accuracy                           0.81      2000\n",
            "   macro avg       0.81      0.80      0.80      2000\n",
            "weighted avg       0.81      0.81      0.81      2000\n",
            "\n"
          ]
        }
      ]
    },
    {
      "cell_type": "code",
      "metadata": {
        "id": "2ukLTPtNSHPe"
      },
      "source": [
        "clf_lr = Pipeline([\n",
        "    ('vect', CountVectorizer()),\n",
        "    ('tfidf', TfidfTransformer()),\n",
        "    ('clf', LogisticRegression()),\n",
        "])\n",
        "\n",
        "parameters_lr = {\n",
        "    'vect__analyzer': [\"word\", \"char\"],\n",
        "    'vect__ngram_range': [(1, 1), (2, 2), (1, 2)],\n",
        "    'vect__lowercase': (True,False),\n",
        "    'vect__max_features': (5000,10000, None),\n",
        "    'tfidf__use_idf': (True, False),\n",
        "    'clf__penalty': (None, \"l1\", \"l2\", \"elasticnet\")\n",
        "}"
      ],
      "id": "2ukLTPtNSHPe",
      "execution_count": null,
      "outputs": []
    },
    {
      "cell_type": "code",
      "metadata": {
        "id": "LsG9PqAUZXJn",
        "colab": {
          "base_uri": "https://localhost:8080/"
        },
        "outputId": "ce005813-330d-4407-c35e-3293ceb4d231"
      },
      "source": [
        "# Gridsearch for the logistic regression modele\n",
        "gs_clf_lr = GridSearchCV(clf_lr, parameters_lr, n_jobs=-1, verbose=10)\n",
        "gs_clf_lr.fit(train_part1[\"text\"], y_train_part1)\n",
        "y_pred_lr = gs_clf_lr.predict(test_data[\"text\"])\n",
        "\n",
        "print(\"Meilleurs paramètres trouvés:\\n\", gs_clf_lr.best_params_, \"\\n\")\n",
        "print(\"Meilleur score atteint:\\n\", gs_clf_lr.best_score_, \"\\n\")"
      ],
      "id": "LsG9PqAUZXJn",
      "execution_count": null,
      "outputs": [
        {
          "output_type": "stream",
          "name": "stdout",
          "text": [
            "Fitting 5 folds for each of 288 candidates, totalling 1440 fits\n"
          ]
        },
        {
          "output_type": "stream",
          "name": "stderr",
          "text": [
            "[Parallel(n_jobs=-1)]: Using backend LokyBackend with 2 concurrent workers.\n",
            "[Parallel(n_jobs=-1)]: Done   1 tasks      | elapsed:    1.8s\n",
            "[Parallel(n_jobs=-1)]: Done   4 tasks      | elapsed:    3.6s\n",
            "[Parallel(n_jobs=-1)]: Done   9 tasks      | elapsed:   14.7s\n",
            "[Parallel(n_jobs=-1)]: Done  14 tasks      | elapsed:   29.8s\n",
            "[Parallel(n_jobs=-1)]: Done  21 tasks      | elapsed:   39.4s\n",
            "[Parallel(n_jobs=-1)]: Done  28 tasks      | elapsed:   56.9s\n",
            "[Parallel(n_jobs=-1)]: Done  37 tasks      | elapsed:  1.2min\n",
            "[Parallel(n_jobs=-1)]: Done  46 tasks      | elapsed:  1.6min\n",
            "[Parallel(n_jobs=-1)]: Done  57 tasks      | elapsed:  2.0min\n",
            "[Parallel(n_jobs=-1)]: Done  68 tasks      | elapsed:  2.4min\n",
            "[Parallel(n_jobs=-1)]: Done  81 tasks      | elapsed:  2.8min\n",
            "[Parallel(n_jobs=-1)]: Done  94 tasks      | elapsed:  3.3min\n",
            "[Parallel(n_jobs=-1)]: Done 109 tasks      | elapsed:  4.0min\n",
            "[Parallel(n_jobs=-1)]: Done 124 tasks      | elapsed:  4.6min\n",
            "[Parallel(n_jobs=-1)]: Done 141 tasks      | elapsed:  5.3min\n",
            "[Parallel(n_jobs=-1)]: Done 158 tasks      | elapsed:  6.0min\n",
            "[Parallel(n_jobs=-1)]: Done 177 tasks      | elapsed:  6.8min\n",
            "[Parallel(n_jobs=-1)]: Done 196 tasks      | elapsed:  7.5min\n",
            "[Parallel(n_jobs=-1)]: Done 217 tasks      | elapsed:  8.1min\n",
            "[Parallel(n_jobs=-1)]: Done 238 tasks      | elapsed:  8.9min\n",
            "[Parallel(n_jobs=-1)]: Done 261 tasks      | elapsed:  9.7min\n",
            "[Parallel(n_jobs=-1)]: Done 284 tasks      | elapsed: 10.7min\n",
            "[Parallel(n_jobs=-1)]: Done 309 tasks      | elapsed: 11.6min\n",
            "[Parallel(n_jobs=-1)]: Done 334 tasks      | elapsed: 12.6min\n",
            "[Parallel(n_jobs=-1)]: Done 361 tasks      | elapsed: 13.8min\n",
            "[Parallel(n_jobs=-1)]: Done 388 tasks      | elapsed: 14.7min\n",
            "[Parallel(n_jobs=-1)]: Done 417 tasks      | elapsed: 15.8min\n",
            "[Parallel(n_jobs=-1)]: Done 446 tasks      | elapsed: 16.8min\n",
            "[Parallel(n_jobs=-1)]: Done 477 tasks      | elapsed: 18.1min\n",
            "[Parallel(n_jobs=-1)]: Done 508 tasks      | elapsed: 19.4min\n",
            "[Parallel(n_jobs=-1)]: Done 541 tasks      | elapsed: 20.8min\n",
            "[Parallel(n_jobs=-1)]: Done 574 tasks      | elapsed: 21.8min\n",
            "[Parallel(n_jobs=-1)]: Done 609 tasks      | elapsed: 23.1min\n",
            "[Parallel(n_jobs=-1)]: Done 644 tasks      | elapsed: 24.5min\n",
            "[Parallel(n_jobs=-1)]: Done 681 tasks      | elapsed: 26.0min\n",
            "[Parallel(n_jobs=-1)]: Done 718 tasks      | elapsed: 27.5min\n",
            "[Parallel(n_jobs=-1)]: Done 757 tasks      | elapsed: 29.2min\n",
            "[Parallel(n_jobs=-1)]: Done 796 tasks      | elapsed: 31.4min\n",
            "[Parallel(n_jobs=-1)]: Done 837 tasks      | elapsed: 34.1min\n",
            "[Parallel(n_jobs=-1)]: Done 878 tasks      | elapsed: 36.4min\n",
            "[Parallel(n_jobs=-1)]: Done 921 tasks      | elapsed: 38.6min\n",
            "[Parallel(n_jobs=-1)]: Done 964 tasks      | elapsed: 40.8min\n",
            "[Parallel(n_jobs=-1)]: Done 1009 tasks      | elapsed: 43.5min\n",
            "[Parallel(n_jobs=-1)]: Done 1054 tasks      | elapsed: 46.1min\n",
            "[Parallel(n_jobs=-1)]: Done 1101 tasks      | elapsed: 48.3min\n",
            "[Parallel(n_jobs=-1)]: Done 1148 tasks      | elapsed: 50.0min\n",
            "[Parallel(n_jobs=-1)]: Done 1197 tasks      | elapsed: 52.0min\n",
            "[Parallel(n_jobs=-1)]: Done 1246 tasks      | elapsed: 54.0min\n",
            "[Parallel(n_jobs=-1)]: Done 1297 tasks      | elapsed: 55.8min\n",
            "[Parallel(n_jobs=-1)]: Done 1348 tasks      | elapsed: 57.8min\n",
            "[Parallel(n_jobs=-1)]: Done 1401 tasks      | elapsed: 59.9min\n",
            "[Parallel(n_jobs=-1)]: Done 1440 out of 1440 | elapsed: 61.5min finished\n"
          ]
        },
        {
          "output_type": "stream",
          "name": "stdout",
          "text": [
            "Meilleurs paramètres trouvés:\n",
            " {'clf__penalty': 'l2', 'tfidf__use_idf': True, 'vect__analyzer': 'word', 'vect__lowercase': True, 'vect__max_features': None, 'vect__ngram_range': (1, 1)} \n",
            "\n",
            "Meilleur score atteint:\n",
            " 0.7875 \n",
            "\n"
          ]
        }
      ]
    },
    {
      "cell_type": "code",
      "metadata": {
        "id": "PKIgxERtGgEF",
        "colab": {
          "base_uri": "https://localhost:8080/",
          "height": 52
        },
        "outputId": "d210bf5f-d3ed-4de0-a0f2-c4b1777133db"
      },
      "source": [
        "\"\"\"\n",
        "Meilleurs paramètres trouvés:\n",
        " {'clf__penalty': 'l2', 'tfidf__use_idf': True, 'vect__analyzer': 'word', 'vect__lowercase': True, 'vect__max_features': None, 'vect__ngram_range': (1, 1)} \n",
        "\n",
        "Meilleur score atteint:\n",
        " 0.7875\n",
        "\"\"\""
      ],
      "id": "PKIgxERtGgEF",
      "execution_count": null,
      "outputs": [
        {
          "output_type": "execute_result",
          "data": {
            "application/vnd.google.colaboratory.intrinsic+json": {
              "type": "string"
            },
            "text/plain": [
              "\"\\nMeilleurs paramètres trouvés:\\n {'clf__penalty': 'l2', 'tfidf__use_idf': True, 'vect__analyzer': 'word', 'vect__lowercase': True, 'vect__max_features': None, 'vect__ngram_range': (1, 1)} \\n\\nMeilleur score atteint:\\n 0.7875\\n\""
            ]
          },
          "metadata": {},
          "execution_count": 34
        }
      ]
    },
    {
      "cell_type": "code",
      "metadata": {
        "id": "v6BlchPLBWEb",
        "colab": {
          "base_uri": "https://localhost:8080/"
        },
        "outputId": "bd0da255-7b27-4073-8bc7-df5f1c0c584a"
      },
      "source": [
        "print(classification_report(y_test_part1, y_pred_lr))"
      ],
      "id": "v6BlchPLBWEb",
      "execution_count": null,
      "outputs": [
        {
          "output_type": "stream",
          "name": "stdout",
          "text": [
            "              precision    recall  f1-score   support\n",
            "\n",
            "           0       0.78      0.89      0.83      1172\n",
            "           1       0.81      0.65      0.72       828\n",
            "\n",
            "    accuracy                           0.79      2000\n",
            "   macro avg       0.79      0.77      0.78      2000\n",
            "weighted avg       0.79      0.79      0.79      2000\n",
            "\n"
          ]
        }
      ]
    },
    {
      "cell_type": "markdown",
      "metadata": {
        "id": "zBWuAI1N4mUb"
      },
      "source": [
        "### 5.3. Classification neuronale (45%)"
      ],
      "id": "zBWuAI1N4mUb"
    },
    {
      "cell_type": "markdown",
      "metadata": {
        "id": "ytV_HKONSQxO"
      },
      "source": [
        "#### BiLSTM sans plongement pré-entrainé"
      ],
      "id": "ytV_HKONSQxO"
    },
    {
      "cell_type": "markdown",
      "metadata": {
        "id": "vhA7KmYESrJZ"
      },
      "source": [
        "1. (10 points) Implémentez un modèle à deux couches Bi-LSTM avec Keras sans plongements pré-entrainés et entrainez-le sur l’ensemble d’entrainement (voir les points suivants). Assurez-vous que votre séquence maximale prenne en compte la plus longue séquence de votre ensemble de données d’entrainement."
      ],
      "id": "vhA7KmYESrJZ"
    },
    {
      "cell_type": "markdown",
      "metadata": {
        "id": "3i21miQfoGwz"
      },
      "source": [
        "##### Preprocessing pour la classification neuronale"
      ],
      "id": "3i21miQfoGwz"
    },
    {
      "cell_type": "code",
      "metadata": {
        "id": "BS3VlK5Oi9B-"
      },
      "source": [
        "# we first convert the labels to numerical numbers\n",
        "female_label, male_label = 1, 0\n",
        "target_conversion = {\n",
        "    'female': female_label,\n",
        "    'male': male_label\n",
        "}\n",
        "\n",
        "train_data['target'] = train_data['gender'].map(target_conversion)\n",
        "val_data['target'] = val_data['gender'].map(target_conversion)\n",
        "test_data['target'] = test_data['gender'].map(target_conversion)\n",
        "\n",
        "#we define our train and validation set\n",
        "x_train = train_data['tokens']\n",
        "y_train = train_data['target']\n",
        "x_val = val_data['tokens']\n",
        "y_val = val_data['target']\n",
        "x_test = test_data['tokens']\n",
        "y_test = test_data['target']"
      ],
      "id": "BS3VlK5Oi9B-",
      "execution_count": 17,
      "outputs": []
    },
    {
      "cell_type": "code",
      "metadata": {
        "id": "DYpwIXslqbr4"
      },
      "source": [
        "def corpus_tokenize(corpus,tokenizer, max_seq_len):\n",
        "    sequences = tokenizer.texts_to_sequences(corpus)\n",
        "    # pad the vectors to have the same length (here it is the maximal length )\n",
        "    text = pad_sequences(sequences, maxlen=max_seq_len)\n",
        "    return text"
      ],
      "id": "DYpwIXslqbr4",
      "execution_count": 18,
      "outputs": []
    },
    {
      "cell_type": "code",
      "metadata": {
        "id": "BMiPjXrndVVf"
      },
      "source": [
        "#preprocessing by tokenizing the corpus and padding the vectors\n",
        "nb_features = 20000 #20% du vocabulaire d'après la loi de zipf\n",
        "nb_words = np.min([nb_features, vocab_size])\n",
        "max_seq_len = np.max([len(x) for x in x_train]) #the sequence maximal size\n",
        "\n",
        "tokenizer = Tokenizer(num_words=nb_words)\n",
        "tokenizer.fit_on_texts(x_train)\n",
        "word_index = tokenizer.word_index\n",
        "\n",
        "x_train_tokenized = corpus_tokenize(x_train, tokenizer, max_seq_len)\n",
        "x_val_tokenized = corpus_tokenize(x_val, tokenizer, max_seq_len)\n",
        "x_test_tokenized = corpus_tokenize(x_test, tokenizer, max_seq_len)"
      ],
      "id": "BMiPjXrndVVf",
      "execution_count": 19,
      "outputs": []
    },
    {
      "cell_type": "markdown",
      "metadata": {
        "id": "UCKkpbJDoMP4"
      },
      "source": [
        "##### Création et entrainement du modèle"
      ],
      "id": "UCKkpbJDoMP4"
    },
    {
      "cell_type": "code",
      "metadata": {
        "id": "6vVSJqz5oPC0"
      },
      "source": [
        "# Bi-LSTM model in Keras.\n",
        "def bi_lstm_model(max_seq_len,\n",
        "                  vocab_size,\n",
        "                  lstm_units,\n",
        "                  dropout_rate,\n",
        "                  embeded_dim,\n",
        "                  drop_bool=False): #boolean to use dropout or not\n",
        "  \n",
        "    # define the layers.\n",
        "    inputs = keras.Input(shape=(max_seq_len,), dtype=\"int32\")\n",
        "\n",
        "    x = layers.Embedding(vocab_size, embeded_dim)(inputs)\n",
        "    x = layers.Bidirectional(layers.LSTM(units=lstm_units, return_sequences=True))(x)\n",
        "    x = layers.Bidirectional(layers.LSTM(units=lstm_units))(x)\n",
        "    if (drop_bool==True):\n",
        "      x = layers.Dropout(dropout_rate)(x)\n",
        "\n",
        "    outputs = layers.Dense(1, activation=\"sigmoid\")(x)\n",
        "\n",
        "    model = keras.Model(inputs=inputs, outputs=outputs)\n",
        "    return model"
      ],
      "id": "6vVSJqz5oPC0",
      "execution_count": null,
      "outputs": []
    },
    {
      "cell_type": "code",
      "metadata": {
        "id": "yA0LQAzFa2R5",
        "colab": {
          "base_uri": "https://localhost:8080/"
        },
        "outputId": "81aebfd0-9eab-4633-f109-f19c4248ccf2"
      },
      "source": [
        "## TUNING PARAMETERS ##\n",
        "#max_seq_len\n",
        "#nb_words\n",
        "lstm_units = 64\n",
        "dropout_rate = 0.2\n",
        "embeded_dim = 100 # value usually between 100 et 300\n",
        "drop_bool = False\n",
        "\n",
        "model_bi_lstm_1 = bi_lstm_model(max_seq_len, nb_words, lstm_units, dropout_rate, embeded_dim,drop_bool=drop_bool)\n",
        "\n",
        "# compile the model\n",
        "model_bi_lstm_1.compile(optimizer='adam', loss='binary_crossentropy', metrics=['accuracy']) #,'AUC'\n",
        "# summarize the model\n",
        "print(model_bi_lstm_1.summary())"
      ],
      "id": "yA0LQAzFa2R5",
      "execution_count": null,
      "outputs": [
        {
          "output_type": "stream",
          "name": "stdout",
          "text": [
            "Model: \"model_1\"\n",
            "_________________________________________________________________\n",
            "Layer (type)                 Output Shape              Param #   \n",
            "=================================================================\n",
            "input_2 (InputLayer)         [(None, 5780)]            0         \n",
            "_________________________________________________________________\n",
            "embedding_1 (Embedding)      (None, 5780, 100)         2000000   \n",
            "_________________________________________________________________\n",
            "bidirectional_2 (Bidirection (None, 5780, 128)         84480     \n",
            "_________________________________________________________________\n",
            "bidirectional_3 (Bidirection (None, 128)               98816     \n",
            "_________________________________________________________________\n",
            "dense_1 (Dense)              (None, 1)                 129       \n",
            "=================================================================\n",
            "Total params: 2,183,425\n",
            "Trainable params: 2,183,425\n",
            "Non-trainable params: 0\n",
            "_________________________________________________________________\n",
            "None\n"
          ]
        }
      ]
    },
    {
      "cell_type": "markdown",
      "metadata": {
        "id": "AO2QLE2Ia_Bp"
      },
      "source": [
        "2. (2 points) Effectuez un «EarlyStopping» prenant en compte une «val_loss» minimale et en attendant 3 époques.\n",
        "\n",
        "3. (2 points) En utilisant un ModelCheckpoint, sauvegardez votre meilleur modèle pour lequel la métrique «val_accuracy» soit maximale."
      ],
      "id": "AO2QLE2Ia_Bp"
    },
    {
      "cell_type": "code",
      "metadata": {
        "id": "B8HhVinZhWrT",
        "colab": {
          "base_uri": "https://localhost:8080/"
        },
        "outputId": "f0186740-3397-4e9c-fc55-4f372564cc05"
      },
      "source": [
        "#defining the checkpoint\n",
        "checkpoint1 = ModelCheckpoint(\"best_model_no_emb.hdf5\", monitor='val_accuracy', verbose=1,save_best_only=True, mode='auto', period=1,save_weights_only=False)\n",
        "callback1 = EarlyStopping(monitor='val_loss', patience=3)\n",
        "\n",
        "historic_bilstm_1 = model_bi_lstm_1.fit(x_train_tokenized, y_train, batch_size=32, epochs=6, validation_data=(x_val_tokenized, y_val), callbacks=[checkpoint1,callback1])\n",
        "          "
      ],
      "id": "B8HhVinZhWrT",
      "execution_count": null,
      "outputs": [
        {
          "output_type": "stream",
          "name": "stdout",
          "text": [
            "WARNING:tensorflow:`period` argument is deprecated. Please use `save_freq` to specify the frequency in number of batches seen.\n",
            "Epoch 1/6\n",
            "219/219 [==============================] - 513s 2s/step - loss: 0.5698 - accuracy: 0.7064 - val_loss: 0.4925 - val_accuracy: 0.7720\n",
            "\n",
            "Epoch 00001: val_accuracy improved from -inf to 0.77200, saving model to best_model_no_emb.hdf5\n",
            "Epoch 2/6\n",
            "219/219 [==============================] - 505s 2s/step - loss: 0.3246 - accuracy: 0.8647 - val_loss: 0.4628 - val_accuracy: 0.7710\n",
            "\n",
            "Epoch 00002: val_accuracy did not improve from 0.77200\n",
            "Epoch 3/6\n",
            "219/219 [==============================] - 504s 2s/step - loss: 0.1511 - accuracy: 0.9467 - val_loss: 0.5459 - val_accuracy: 0.7930\n",
            "\n",
            "Epoch 00003: val_accuracy improved from 0.77200 to 0.79300, saving model to best_model_no_emb.hdf5\n",
            "Epoch 4/6\n",
            "219/219 [==============================] - 505s 2s/step - loss: 0.0785 - accuracy: 0.9711 - val_loss: 0.6921 - val_accuracy: 0.7720\n",
            "\n",
            "Epoch 00004: val_accuracy did not improve from 0.79300\n",
            "Epoch 5/6\n",
            "219/219 [==============================] - 505s 2s/step - loss: 0.0495 - accuracy: 0.9826 - val_loss: 0.8122 - val_accuracy: 0.7270\n",
            "\n",
            "Epoch 00005: val_accuracy did not improve from 0.79300\n"
          ]
        }
      ]
    },
    {
      "cell_type": "markdown",
      "metadata": {
        "id": "tT7qVfaM_OHZ"
      },
      "source": [
        "***REMARQUE***\n",
        "\n",
        "on remarque que notre modèle overfit, d'où l'intéret du early stopping. Nous avonns essayé de réduire l'overfitting avec du dropout qui n'a pas eu beaucoup d'effet. Nous avons également tester d'autres méthodes que nous avons implémenté dans la question 10."
      ],
      "id": "tT7qVfaM_OHZ"
    },
    {
      "cell_type": "markdown",
      "metadata": {
        "id": "zsYUiFA1SeRO"
      },
      "source": [
        "##### Evaluation du modèle bilstm sans plongement pré-entrainé"
      ],
      "id": "zsYUiFA1SeRO"
    },
    {
      "cell_type": "markdown",
      "metadata": {
        "id": "qWMGaX3Z4mUe"
      },
      "source": [
        "4. (5 points) Affichez dans une figure la fonction de perte / époque sur le jeu de données d’entrainement (train) et de validation (val). Voir l'énoncé pour un exemple de figure."
      ],
      "id": "qWMGaX3Z4mUe"
    },
    {
      "cell_type": "code",
      "metadata": {
        "id": "aDUttB6O4mUf",
        "colab": {
          "base_uri": "https://localhost:8080/",
          "height": 295
        },
        "outputId": "49bdbfd6-a45b-4198-d10d-2a274b6ba399"
      },
      "source": [
        "# training and validation Loss function\n",
        "plt.plot(historic_bilstm_1.history['loss'])\n",
        "plt.plot(historic_bilstm_1.history['val_loss'])\n",
        "plt.title('Bi-LSTM accuracy loss/epoch')\n",
        "plt.ylabel('loss')\n",
        "plt.xlabel('epoch')\n",
        "plt.legend(['train set', 'validation set'], loc='upper left')\n",
        "plt.show()"
      ],
      "id": "aDUttB6O4mUf",
      "execution_count": null,
      "outputs": [
        {
          "output_type": "display_data",
          "data": {
            "image/png": "[encoded data removed]",
            "text/plain": [
              "<Figure size 432x288 with 1 Axes>"
            ]
          },
          "metadata": {
            "needs_background": "light"
          }
        }
      ]
    },
    {
      "cell_type": "markdown",
      "metadata": {
        "id": "x_nAnxT44mUf"
      },
      "source": [
        "5. (5 points) Affichez dans une figure la précision globale (accuracy)/ époque sur le jeu de données d’entrainement (train) et de validation (val). Voir l'énoncé pour un exemple de figure."
      ],
      "id": "x_nAnxT44mUf"
    },
    {
      "cell_type": "code",
      "metadata": {
        "id": "qenkdSxV4mUf",
        "colab": {
          "base_uri": "https://localhost:8080/",
          "height": 295
        },
        "outputId": "0cf91eca-1b94-4de7-c203-b037bce27e61"
      },
      "source": [
        "# training and validation accuracy function\n",
        "plt.plot(historic_bilstm_1.history['accuracy'])\n",
        "plt.plot(historic_bilstm_1.history['val_accuracy'])\n",
        "plt.title('Bi-LSTM accuracy/epoch')\n",
        "plt.ylabel('accuracy')\n",
        "plt.xlabel('epoch')\n",
        "plt.legend(['train set', 'validation set'], loc='upper left')\n",
        "plt.show()"
      ],
      "id": "qenkdSxV4mUf",
      "execution_count": null,
      "outputs": [
        {
          "output_type": "display_data",
          "data": {
            "image/png": "[encoded data removed]",
            "text/plain": [
              "<Figure size 432x288 with 1 Axes>"
            ]
          },
          "metadata": {
            "needs_background": "light"
          }
        }
      ]
    },
    {
      "cell_type": "markdown",
      "metadata": {
        "id": "obVNXZEd4mUf"
      },
      "source": [
        "6. (2 points) Chargez le meilleur modèle retenu, et affichez les performances de ce meilleur modèle sur l’ensemble de test. Utilisez la métrique Accuracy. (Exemple: Accuracy: 0.82)"
      ],
      "id": "obVNXZEd4mUf"
    },
    {
      "cell_type": "code",
      "metadata": {
        "id": "Td6Peyz84mUf"
      },
      "source": [
        "best_model_bilstm_1 = load_model('best_model_no_emb.hdf5')\n",
        "Y_test_bilstm_1 = best_model_bilstm_1.predict(x_test_tokenized)"
      ],
      "id": "Td6Peyz84mUf",
      "execution_count": null,
      "outputs": []
    },
    {
      "cell_type": "code",
      "metadata": {
        "id": "sBO_t5ZwB9YV",
        "colab": {
          "base_uri": "https://localhost:8080/"
        },
        "outputId": "fe9fd15e-97c1-45b5-dd14-f4498019d7a2"
      },
      "source": [
        "y_test_pred_bilstm = np.where(Y_test_bilstm_1.flatten() > 0.5, 1, 0)\n",
        "y_test_target_bilstm = np.array(y_test)\n",
        "\n",
        "# tabs classification metrics\n",
        "print(\"naive bayes for unigrams and bigrams\")\n",
        "print(classification_report(y_test_target_bilstm, y_test_pred_bilstm))\n",
        "\n",
        "# Confusion matrix\n",
        "C_bilstm_1 = confusion_matrix(y_test_pred_bilstm, y_test_target_bilstm)\n",
        "print(\"Confusion matrix Bi-lstm:\", C_bilstm_1, sep=\"\\n\")\n",
        "\n",
        "# Accuracy\n",
        "metric = keras.metrics.Accuracy()\n",
        "metric.update_state(y_test_target_bilstm,y_test_pred_bilstm)\n",
        "acc_bilstm_1 = metric.result().numpy()\n",
        "print(\"Accuracy of the Bi-LSTM :\", acc_bilstm_1, sep=\"\\n\")"
      ],
      "id": "sBO_t5ZwB9YV",
      "execution_count": null,
      "outputs": [
        {
          "output_type": "stream",
          "name": "stdout",
          "text": [
            "naive bayes for unigrams and bigrams\n",
            "              precision    recall  f1-score   support\n",
            "\n",
            "           0       0.80      0.82      0.81      1172\n",
            "           1       0.73      0.71      0.72       828\n",
            "\n",
            "    accuracy                           0.77      2000\n",
            "   macro avg       0.77      0.76      0.77      2000\n",
            "weighted avg       0.77      0.77      0.77      2000\n",
            "\n",
            "Confusion matrix Bi-lstm:\n",
            "[[958 239]\n",
            " [214 589]]\n",
            "Accuracy of the Bi-LSTM :\n",
            "0.7735\n"
          ]
        }
      ]
    },
    {
      "cell_type": "markdown",
      "metadata": {
        "id": "90x1gHGuSiC1"
      },
      "source": [
        "\n",
        "\n",
        "#### Bi-LSTM avec plongement GLoVe"
      ],
      "id": "90x1gHGuSiC1"
    },
    {
      "cell_type": "markdown",
      "metadata": {
        "id": "ol5LEdbvTMj-"
      },
      "source": [
        "7. (10 points) En utilisant des plongements lexicaux pré-entrainés GLOVE, implémentez un modèle Bi-LSTM à deux couches avec Keras utilisant ces plongements et avec les mêmes critères d’EarlyStopping et de ModelCheckpoint que précédemment, et entrainez-le sur l’ensemble d’entrainement. Sauvegardez votre meilleur modèle. "
      ],
      "id": "ol5LEdbvTMj-"
    },
    {
      "cell_type": "markdown",
      "metadata": {
        "id": "cOsmbIZrbnLY"
      },
      "source": [
        "##### Téléchargement de GloVe"
      ],
      "id": "cOsmbIZrbnLY"
    },
    {
      "cell_type": "code",
      "metadata": {
        "id": "E6aXkyP14mUg"
      },
      "source": [
        "\n",
        "import requests, zipfile, io\n",
        "zip_file_url = \"http://nlp.stanford.edu/data/glove.840B.300d.zip\"\n",
        "r = requests.get(zip_file_url)\n",
        "z = zipfile.ZipFile(io.BytesIO(r.content))\n",
        "z.extractall()\n",
        "\n",
        "#nb_features = 20000\n",
        "maxlen = 300\n"
      ],
      "id": "E6aXkyP14mUg",
      "execution_count": 21,
      "outputs": []
    },
    {
      "cell_type": "code",
      "metadata": {
        "id": "h2a-ZQPRc9Em",
        "colab": {
          "base_uri": "https://localhost:8080/"
        },
        "outputId": "a36ea3e9-b39d-4d26-b8eb-02782e41c9e6"
      },
      "source": [
        "\n",
        "print('loading word embeddings...')\n",
        "\n",
        "\n",
        "embeddings_index = {}\n",
        "f = codecs.open('glove.840B.300d.txt', encoding='utf-8')\n",
        "\n",
        "for line in tqdm(f):\n",
        "    values = line.rstrip().rsplit(' ')\n",
        "    word = values[0]\n",
        "    coefs = np.asarray(values[1:], dtype='float32')\n",
        "    embeddings_index[word] = coefs\n",
        "f.close()\n",
        "\n",
        "print('found %s word vectors' % len(embeddings_index))\n"
      ],
      "id": "h2a-ZQPRc9Em",
      "execution_count": 22,
      "outputs": [
        {
          "output_type": "stream",
          "name": "stdout",
          "text": [
            "loading word embeddings...\n"
          ]
        },
        {
          "output_type": "stream",
          "name": "stderr",
          "text": [
            "2196018it [06:29, 5636.19it/s]"
          ]
        },
        {
          "output_type": "stream",
          "name": "stdout",
          "text": [
            "found 2196016 word vectors\n"
          ]
        },
        {
          "output_type": "stream",
          "name": "stderr",
          "text": [
            "\n"
          ]
        }
      ]
    },
    {
      "cell_type": "code",
      "metadata": {
        "id": "bkpGbUxRdKjG",
        "colab": {
          "base_uri": "https://localhost:8080/"
        },
        "outputId": "9434b2e2-5d9f-48c0-af48-cad041cf58b4"
      },
      "source": [
        "#embedding matrix\n",
        "print('preparing embedding matrix...')\n",
        "\n",
        "#max_seq_len\n",
        "nb_words = 20000\n",
        "#nb_words = min(nb_features, vocab_size))\n",
        "embeded_dim = 300 #fixed value\n",
        "\n",
        "words_not_found = []\n",
        "\n",
        "embedding_matrix = np.zeros((nb_words, embeded_dim))\n",
        "\n",
        "for word, i in word_index.items():\n",
        "    if i >= nb_words:\n",
        "        continue\n",
        "    embedding_vector = embeddings_index.get(word)\n",
        "    if (embedding_vector is not None) and len(embedding_vector) > 0:\n",
        "        # words not found in embedding index will be all-zeros.\n",
        "        embedding_matrix[i] = embedding_vector\n",
        "    else:\n",
        "        words_not_found.append(word)\n",
        "print('number of null word embeddings: %d' % np.sum(np.sum(embedding_matrix, axis=1) == 0))\n"
      ],
      "id": "bkpGbUxRdKjG",
      "execution_count": 23,
      "outputs": [
        {
          "output_type": "stream",
          "name": "stdout",
          "text": [
            "preparing embedding matrix...\n",
            "number of null word embeddings: 1248\n"
          ]
        }
      ]
    },
    {
      "cell_type": "markdown",
      "metadata": {
        "id": "QZTNHYpSSthk"
      },
      "source": [
        "##### Model avec GloVe"
      ],
      "id": "QZTNHYpSSthk"
    },
    {
      "cell_type": "code",
      "metadata": {
        "id": "r1PiSOZlsafd"
      },
      "source": [
        "# Bi-LSTM model in Keras.\n",
        "def bi_lstm_glove_model(nb_words,\n",
        "                        embedding_matrix,\n",
        "                  lstm_units,\n",
        "                  dropout_rate,\n",
        "                  embeded_dim,\n",
        "                  drop_bool=False): #boolean to use dropout or not\n",
        "  \n",
        "    # define the layers.\n",
        "    inputs = keras.Input(shape=(None,), dtype=\"int32\")\n",
        "\n",
        "    x = layers.Embedding(nb_words, embeded_dim, weights=[embedding_matrix])(inputs)\n",
        "    x = layers.Bidirectional(layers.LSTM(units=lstm_units, return_sequences=True))(x)\n",
        "    x = layers.Bidirectional(layers.LSTM(units=lstm_units))(x)\n",
        "    if (drop_bool==True):\n",
        "      x = layers.Dropout(dropout_rate)(x)\n",
        "\n",
        "    outputs = layers.Dense(1, activation=\"sigmoid\")(x)\n",
        "\n",
        "    model = keras.Model(inputs=inputs, outputs=outputs)\n",
        "    return model"
      ],
      "id": "r1PiSOZlsafd",
      "execution_count": null,
      "outputs": []
    },
    {
      "cell_type": "code",
      "metadata": {
        "id": "x0RwTDiutDm_",
        "colab": {
          "base_uri": "https://localhost:8080/"
        },
        "outputId": "ff1f2462-8eb8-40c8-a5e7-873edbb107c9"
      },
      "source": [
        "## TUNING PARAMETERS ##\n",
        "#max_seq_len\n",
        "#nb_words\n",
        "#embeded_dim = 300 # TODO= entre 100 et 300\n",
        "lstm_units = 64\n",
        "dropout_rate = 0.2\n",
        "drop_bool = False\n",
        "\n",
        "model_bi_lstm_glove = bi_lstm_glove_model(nb_words,embedding_matrix,lstm_units,dropout_rate,embeded_dim,drop_bool=False)\n",
        "\n",
        "# compile the model\n",
        "model_bi_lstm_glove.compile(optimizer='adam', loss='binary_crossentropy', metrics=['accuracy']) #,'AUC'\n",
        "# summarize the model\n",
        "print(model_bi_lstm_glove.summary())"
      ],
      "id": "x0RwTDiutDm_",
      "execution_count": null,
      "outputs": [
        {
          "output_type": "stream",
          "name": "stdout",
          "text": [
            "Model: \"model_2\"\n",
            "_________________________________________________________________\n",
            "Layer (type)                 Output Shape              Param #   \n",
            "=================================================================\n",
            "input_3 (InputLayer)         [(None, None)]            0         \n",
            "_________________________________________________________________\n",
            "embedding_2 (Embedding)      (None, None, 300)         6000000   \n",
            "_________________________________________________________________\n",
            "bidirectional_4 (Bidirection (None, None, 128)         186880    \n",
            "_________________________________________________________________\n",
            "bidirectional_5 (Bidirection (None, 128)               98816     \n",
            "_________________________________________________________________\n",
            "dense_2 (Dense)              (None, 1)                 129       \n",
            "=================================================================\n",
            "Total params: 6,285,825\n",
            "Trainable params: 6,285,825\n",
            "Non-trainable params: 0\n",
            "_________________________________________________________________\n",
            "None\n"
          ]
        }
      ]
    },
    {
      "cell_type": "code",
      "metadata": {
        "id": "TkxJiHjXrsy4",
        "colab": {
          "base_uri": "https://localhost:8080/"
        },
        "outputId": "0a76749d-ab35-41f6-fc3d-32680749aa18"
      },
      "source": [
        "#defining the checkpoint\n",
        "checkpoint2 = ModelCheckpoint(\"best_model_glove.hdf5\", monitor='val_accuracy', verbose=1,save_best_only=True, mode='auto', period=1,save_weights_only=False)\n",
        "callback2 = EarlyStopping(monitor='val_loss', patience=3)\n",
        "\n",
        "historic_bilstm_glove = model_bi_lstm_glove.fit(x_train_tokenized, y_train, batch_size=32, epochs=6, validation_data=(x_val_tokenized, y_val), callbacks=[checkpoint2,callback2])\n"
      ],
      "id": "TkxJiHjXrsy4",
      "execution_count": null,
      "outputs": [
        {
          "output_type": "stream",
          "name": "stdout",
          "text": [
            "WARNING:tensorflow:`period` argument is deprecated. Please use `save_freq` to specify the frequency in number of batches seen.\n",
            "Epoch 1/6\n",
            "219/219 [==============================] - 527s 2s/step - loss: 0.5593 - accuracy: 0.7141 - val_loss: 0.4950 - val_accuracy: 0.7790\n",
            "\n",
            "Epoch 00001: val_accuracy improved from -inf to 0.77900, saving model to best_model_glove.hdf5\n",
            "Epoch 2/6\n",
            "219/219 [==============================] - 518s 2s/step - loss: 0.4048 - accuracy: 0.8114 - val_loss: 0.4436 - val_accuracy: 0.7950\n",
            "\n",
            "Epoch 00002: val_accuracy improved from 0.77900 to 0.79500, saving model to best_model_glove.hdf5\n",
            "Epoch 3/6\n",
            "219/219 [==============================] - 518s 2s/step - loss: 0.1973 - accuracy: 0.9216 - val_loss: 0.5436 - val_accuracy: 0.7890\n",
            "\n",
            "Epoch 00003: val_accuracy did not improve from 0.79500\n",
            "Epoch 4/6\n",
            "219/219 [==============================] - 518s 2s/step - loss: 0.0854 - accuracy: 0.9687 - val_loss: 0.7117 - val_accuracy: 0.7830\n",
            "\n",
            "Epoch 00004: val_accuracy did not improve from 0.79500\n",
            "Epoch 5/6\n",
            "219/219 [==============================] - 518s 2s/step - loss: 0.0481 - accuracy: 0.9823 - val_loss: 0.8054 - val_accuracy: 0.7810\n",
            "\n",
            "Epoch 00005: val_accuracy did not improve from 0.79500\n"
          ]
        }
      ]
    },
    {
      "cell_type": "markdown",
      "metadata": {
        "id": "fR6fhf9CSzEG"
      },
      "source": [
        "##### Evaluation du modèle bilstm avec glove"
      ],
      "id": "fR6fhf9CSzEG"
    },
    {
      "cell_type": "markdown",
      "metadata": {
        "id": "OIrxs66S4mUg"
      },
      "source": [
        "8. (2 points) De la même manière que précédemment, affichez dans deux figures la fonction de perte et la précision globale (accuracy) / époque sur le jeu de données d’entrainement (train) et de validation (val)."
      ],
      "id": "OIrxs66S4mUg"
    },
    {
      "cell_type": "code",
      "metadata": {
        "id": "RASCBaQ04mUg",
        "colab": {
          "base_uri": "https://localhost:8080/",
          "height": 295
        },
        "outputId": "d5f266c5-8a34-4677-deec-cc9b5bcec9f7"
      },
      "source": [
        "# training and validation Loss function\n",
        "plt.plot(historic_bilstm_glove.history['loss'])\n",
        "plt.plot(historic_bilstm_glove.history['val_loss'])\n",
        "plt.title('Bi-LSTM glove loss/epoch')\n",
        "plt.ylabel('loss')\n",
        "plt.xlabel('epoch')\n",
        "plt.legend(['train set', 'validation set'], loc='upper left')\n",
        "plt.show()"
      ],
      "id": "RASCBaQ04mUg",
      "execution_count": null,
      "outputs": [
        {
          "output_type": "display_data",
          "data": {
            "image/png": "[encoded data removed]",
            "text/plain": [
              "<Figure size 432x288 with 1 Axes>"
            ]
          },
          "metadata": {
            "needs_background": "light"
          }
        }
      ]
    },
    {
      "cell_type": "code",
      "metadata": {
        "id": "E5MBaX8qxyTF",
        "colab": {
          "base_uri": "https://localhost:8080/",
          "height": 295
        },
        "outputId": "7fd1c7e4-056a-4de3-8262-f516f7266dcd"
      },
      "source": [
        "# training and validation accuracy function\n",
        "plt.plot(historic_bilstm_glove.history['accuracy'])\n",
        "plt.plot(historic_bilstm_glove.history['val_accuracy'])\n",
        "plt.title('Bi-LSTM glove accuracy/epoch')\n",
        "plt.ylabel('accuracy')\n",
        "plt.xlabel('epoch')\n",
        "plt.legend(['train set', 'validation set'], loc='upper left')\n",
        "plt.show()"
      ],
      "id": "E5MBaX8qxyTF",
      "execution_count": null,
      "outputs": [
        {
          "output_type": "display_data",
          "data": {
            "image/png": "[encoded data removed]",
            "text/plain": [
              "<Figure size 432x288 with 1 Axes>"
            ]
          },
          "metadata": {
            "needs_background": "light"
          }
        }
      ]
    },
    {
      "cell_type": "markdown",
      "metadata": {
        "id": "P-u4zjT84mUg"
      },
      "source": [
        "9. (2 points) Affichez les performances de votre meilleur modèle à base de plongements sur l’ensemble de test. Utilisez la métrique de précision globale (Accuracy)."
      ],
      "id": "P-u4zjT84mUg"
    },
    {
      "cell_type": "code",
      "metadata": {
        "id": "L6bijl2G4mUh",
        "colab": {
          "base_uri": "https://localhost:8080/"
        },
        "outputId": "59404738-1414-41e8-ff8c-77be214fb738"
      },
      "source": [
        "best_model_bilstm_glove = load_model('best_model_glove.hdf5')\n",
        "Y_test_bilstm_glove = best_model_bilstm_glove.predict(x_test_tokenized)\n",
        "\n",
        "y_test_pred_bilstm_glove = np.where(Y_test_bilstm_glove.flatten() > 0.5, 1, 0)\n",
        "y_test_target_bilstm_glove = np.array(y_test)\n",
        "\n",
        "# tabs classification metrics\n",
        "print(\"classification report for bi-lstm glove on test set\")\n",
        "print(classification_report(y_test_target_bilstm_glove, y_test_pred_bilstm_glove))\n",
        "\n",
        "# Confusion matrix\n",
        "C_bilstm_glove = confusion_matrix(y_test_pred_bilstm_glove, y_test_target_bilstm_glove)\n",
        "print(\"Confusion matrix Bi-lstm glove:\", C_bilstm_glove, sep=\"\\n\")\n",
        "\n",
        "# Accuracy\n",
        "metric = keras.metrics.Accuracy()\n",
        "metric.update_state(y_test_target_bilstm_glove,y_test_pred_bilstm_glove)\n",
        "acc_bilstm_glove = metric.result().numpy()\n",
        "print(\"Accuracy of the Bi-LSTM glove:\", acc_bilstm_glove, sep=\"\\n\")"
      ],
      "id": "L6bijl2G4mUh",
      "execution_count": null,
      "outputs": [
        {
          "output_type": "stream",
          "name": "stdout",
          "text": [
            "classification report for bi-lstm glove on test set\n",
            "              precision    recall  f1-score   support\n",
            "\n",
            "           0       0.78      0.90      0.83      1172\n",
            "           1       0.81      0.63      0.71       828\n",
            "\n",
            "    accuracy                           0.79      2000\n",
            "   macro avg       0.79      0.76      0.77      2000\n",
            "weighted avg       0.79      0.79      0.78      2000\n",
            "\n",
            "Confusion matrix Bi-lstm glove:\n",
            "[[1049  304]\n",
            " [ 123  524]]\n",
            "Accuracy of the Bi-LSTM glove:\n",
            "0.7865\n"
          ]
        }
      ]
    },
    {
      "cell_type": "markdown",
      "metadata": {
        "id": "VDLr-u_RS2bl"
      },
      "source": [
        "#### Amélioration du model précédent"
      ],
      "id": "VDLr-u_RS2bl"
    },
    {
      "cell_type": "markdown",
      "metadata": {
        "id": "s6fDm8Ye4mUh"
      },
      "source": [
        "10. (5 points) Si ce n’est pas déjà le cas, tentez de dépasser les performances de votre meilleur modèle traditionnel en créant un nouveau modèle Bi-LSTM (vous pouvez ajouter des couches, utiliser du dropout, utiliser d’autres modèles de plongements, etc.)"
      ],
      "id": "s6fDm8Ye4mUh"
    },
    {
      "cell_type": "markdown",
      "metadata": {
        "id": "7vsqXbmhAMO7"
      },
      "source": [
        "Pour améliorer notre modèle, nous avons ajouter un prétraitrement, ajouter du dropout et un bilstl layer. Nous avons tester le w2vec (le code du w2vec ce trouve dans la partie annexe du ipynb) qui ne nous donnait pas de meilleurs résultats que le glove. Donc nous avons gardé le glove. Finalement, nous ajoutons 'AUC' comme metric à notre entrainement, qui est une meilleur metric pour la classification."
      ],
      "id": "7vsqXbmhAMO7"
    },
    {
      "cell_type": "markdown",
      "metadata": {
        "id": "plnn-G3ILKYa"
      },
      "source": [
        "##### ajout de prétraitement"
      ],
      "id": "plnn-G3ILKYa"
    },
    {
      "cell_type": "markdown",
      "metadata": {
        "id": "0fsoCv4KLON9"
      },
      "source": [
        "Conrairement aux modéles traditionnels qui utilisent le tfidf et qui donc discriment les termes récurrents, pour les modéles neuronnaux on a décidé de retirer les ponctuations pour diminuer la taille des nos vecteurs mots (qui vont etre reduits à la dimension de la séquence la plus longue). On a donc décider de retirer les ponctuations.\n",
        "\n",
        "On a pu observer que en retirant les ponctuations on obtenait de meilleurs résultat pour le bilstm. Par contre selon nos tests, utiliser la lemmatisation accentue l'overfitting et nous génére de moins bon résultats."
      ],
      "id": "0fsoCv4KLON9"
    },
    {
      "cell_type": "code",
      "metadata": {
        "id": "IkKKEmaN5SC5"
      },
      "source": [
        "#suppress punctuations\n",
        "def rm_stowords_and_punctuation(segm_data):\n",
        "  stopwords_english = stopwords.words('english')\n",
        "  data_cleaned = []\n",
        "  for word in segm_data:\n",
        "    if (word not in stopwords_english and  \n",
        "        word not in string.punctuation and\n",
        "        word not in ('.','&',';',':','-',',','(', '?', '...', ')', \"'\")): # mots fréquents qui montre un sentiment \"!\",'...','?'\n",
        "        data_cleaned.append(word)\n",
        "  return data_cleaned\n",
        "\n",
        "def add_preprocess(df, index):\n",
        "   df['tokens_nopunct'] = df[index].apply(rm_stowords_and_punctuation)\n",
        "   df['tokens_lemm'] = df['tokens_nopunct'].apply(lemmatize)\n",
        "   return df\n",
        "\n",
        "train_data = add_preprocess(train_data, 'tokens')\n",
        "val_data = add_preprocess(val_data, 'tokens')\n",
        "test_data = add_preprocess(test_data, 'tokens')"
      ],
      "id": "IkKKEmaN5SC5",
      "execution_count": 33,
      "outputs": []
    },
    {
      "cell_type": "code",
      "metadata": {
        "colab": {
          "base_uri": "https://localhost:8080/"
        },
        "id": "ZpZN5froWYDZ",
        "outputId": "0b5786b4-cc71-4dd3-db72-d61ce0a43478"
      },
      "source": [
        "vocab_size_imp = len(set(flatten(train_data['tokens_nopunct'])))\n",
        "print(\"Nb type:\", vocab_size)\n",
        "males_types = FreqDist(flatten(train_data[train_data[\"gender\"] == \"male\"]['tokens_lemm']))\n",
        "females_types = FreqDist(flatten(train_data[train_data[\"gender\"] == \"female\"]['tokens_lemm']))\n",
        "print(f\"Nb type male: {len(males_types.keys())} / Nb type female: {len(females_types.keys())}\")\n",
        "print(f\"Most frequent types for males : {most_frequent(males_types, 20)}\")\n",
        "print(f\"Most frequent types for males : {most_frequent(females_types, 20)}\")"
      ],
      "id": "ZpZN5froWYDZ",
      "execution_count": 51,
      "outputs": [
        {
          "output_type": "stream",
          "name": "stdout",
          "text": [
            "Nb type: 54164\n",
            "Nb type male: 33300 / Nb type female: 30475\n",
            "Most frequent types for males : ['well', 'nbsp', 'got', 'really', 'good', 'day', 'people', 'thing', 'urllink', 'go', 'think', 'know', 'would', 'time', 'get', \"'m\", 'one', 'like', \"n't\", \"'s\"]\n",
            "Most frequent types for males : ['well', 'nbsp', 'got', 'really', 'good', 'day', 'people', 'thing', 'urllink', 'go', 'think', 'know', 'would', 'time', 'get', \"'m\", 'one', 'like', \"n't\", \"'s\"]\n"
          ]
        }
      ]
    },
    {
      "cell_type": "code",
      "metadata": {
        "id": "_5SP6nTA8rmy"
      },
      "source": [
        "#we define our train and validation set on tokens without punctuations\n",
        "\n",
        "x_train_imp = train_data['tokens_nopunct']\n",
        "x_val_imp = val_data['tokens_nopunct']\n",
        "x_test_imp = test_data['tokens_nopunct']\n",
        "\n",
        "'''\n",
        "x_train_imp = train_data['tokens_lemm']\n",
        "x_val_imp = val_data['tokens_lemm']\n",
        "x_test_imp = test_data['tokens_lemm']\n",
        "'''\n",
        "\n",
        "nb_words_imp=min(20000,vocab_size_imp) #20% du voc\n",
        "max_seq_len_imp=np.max([len(x) for x in x_train_imp])\n",
        "\n",
        "tokenizer = Tokenizer(num_words=nb_words_imp)\n",
        "tokenizer.fit_on_texts(x_train_imp)\n",
        "word_index = tokenizer.word_index\n",
        "\n",
        "x_train_tokenized_imp = corpus_tokenize(x_train_imp, tokenizer, max_seq_len_imp)\n",
        "x_val_tokenized_imp = corpus_tokenize(x_val_imp, tokenizer, max_seq_len_imp)\n",
        "x_test_tokenized_imp = corpus_tokenize(x_test_imp, tokenizer, max_seq_len_imp)"
      ],
      "id": "_5SP6nTA8rmy",
      "execution_count": 35,
      "outputs": []
    },
    {
      "cell_type": "markdown",
      "metadata": {
        "id": "Ca2ShoHykPCP"
      },
      "source": [
        "##### Glove"
      ],
      "id": "Ca2ShoHykPCP"
    },
    {
      "cell_type": "code",
      "metadata": {
        "id": "SNOochIdQsIQ"
      },
      "source": [
        "# Bi-LSTM model in Keras.\n",
        "def bi_lstm_glove_improved_model(nb_words,\n",
        "                                embedding_matrix,\n",
        "                                lstm_units,\n",
        "                                dropout_rate,\n",
        "                                embeded_dim): #boolean to use dropout or not\n",
        "  \n",
        "    # define the layers.\n",
        "    inputs = keras.Input(shape=(None,), dtype=\"int32\")\n",
        "\n",
        "    x = layers.Embedding(nb_words, embeded_dim, weights=[embedding_matrix])(inputs)\n",
        "    x = layers.Dropout(dropout_rate)(x)\n",
        "    x = layers.Bidirectional(layers.LSTM(units=lstm_units, return_sequences=True))(x)\n",
        "    x = layers.Dropout(dropout_rate)(x)\n",
        "    x = layers.Bidirectional(layers.LSTM(units=lstm_units))(x)\n",
        "    x = layers.Dropout(dropout_rate)(x)\n",
        "\n",
        "    outputs = layers.Dense(1, activation=\"sigmoid\")(x)\n",
        "\n",
        "    model = keras.Model(inputs=inputs, outputs=outputs)\n",
        "    return model"
      ],
      "id": "SNOochIdQsIQ",
      "execution_count": 39,
      "outputs": []
    },
    {
      "cell_type": "code",
      "metadata": {
        "id": "V8S9e4ZUQ9_8",
        "colab": {
          "base_uri": "https://localhost:8080/"
        },
        "outputId": "5fc84aab-900c-40da-f5b4-847e9a577a70"
      },
      "source": [
        "## TUNING PARAMETERS ##\n",
        "lstm_units = 64\n",
        "dropout_rate = 0.2\n",
        "\n",
        "model_bi_lstm_improved_glove = bi_lstm_glove_improved_model(nb_words_imp,embedding_matrix,lstm_units,dropout_rate,embeded_dim)\n",
        "\n",
        "# compile the model\n",
        "#opt = tf.keras.optimizers.RMSprop()\n",
        "#opt = keras.optimizers.Adam(learning_rate=0.01)\n",
        "model_bi_lstm_improved_glove.compile(optimizer='adam', loss='binary_crossentropy', metrics=['accuracy', 'AUC'])\n",
        "# summarize the model\n",
        "print(model_bi_lstm_improved_glove.summary())"
      ],
      "id": "V8S9e4ZUQ9_8",
      "execution_count": 40,
      "outputs": [
        {
          "output_type": "stream",
          "name": "stdout",
          "text": [
            "Model: \"model_3\"\n",
            "_________________________________________________________________\n",
            "Layer (type)                 Output Shape              Param #   \n",
            "=================================================================\n",
            "input_4 (InputLayer)         [(None, None)]            0         \n",
            "_________________________________________________________________\n",
            "embedding_3 (Embedding)      (None, None, 300)         6000000   \n",
            "_________________________________________________________________\n",
            "dropout_5 (Dropout)          (None, None, 300)         0         \n",
            "_________________________________________________________________\n",
            "bidirectional_6 (Bidirection (None, None, 128)         186880    \n",
            "_________________________________________________________________\n",
            "dropout_6 (Dropout)          (None, None, 128)         0         \n",
            "_________________________________________________________________\n",
            "bidirectional_7 (Bidirection (None, 128)               98816     \n",
            "_________________________________________________________________\n",
            "dropout_7 (Dropout)          (None, 128)               0         \n",
            "_________________________________________________________________\n",
            "dense_3 (Dense)              (None, 1)                 129       \n",
            "=================================================================\n",
            "Total params: 6,285,825\n",
            "Trainable params: 6,285,825\n",
            "Non-trainable params: 0\n",
            "_________________________________________________________________\n",
            "None\n"
          ]
        }
      ]
    },
    {
      "cell_type": "code",
      "metadata": {
        "id": "cAKQjzuNRtYV",
        "colab": {
          "base_uri": "https://localhost:8080/"
        },
        "outputId": "8b23bfc5-38c5-46e1-9769-a8804f24762a"
      },
      "source": [
        "#defining the checkpoint\n",
        "checkpoint3 = ModelCheckpoint(\"best_model_glove_improved.hdf5\", monitor='val_accuracy', verbose=1,save_best_only=True, mode='auto', period=1,save_weights_only=False)\n",
        "callback3 = EarlyStopping(monitor='val_loss', patience=3)\n",
        "\n",
        "historic_bilstm_improved_glove = model_bi_lstm_improved_glove.fit(x_train_tokenized_imp, y_train, batch_size=32, epochs=6, validation_data=(x_val_tokenized_imp, y_val), callbacks=[checkpoint3,callback3])"
      ],
      "id": "cAKQjzuNRtYV",
      "execution_count": 41,
      "outputs": [
        {
          "output_type": "stream",
          "name": "stdout",
          "text": [
            "WARNING:tensorflow:`period` argument is deprecated. Please use `save_freq` to specify the frequency in number of batches seen.\n",
            "Epoch 1/6\n",
            "219/219 [==============================] - 448s 2s/step - loss: 0.6101 - accuracy: 0.6601 - auc: 0.6950 - val_loss: 0.5541 - val_accuracy: 0.7030 - val_auc: 0.7996\n",
            "\n",
            "Epoch 00001: val_accuracy improved from -inf to 0.70300, saving model to best_model_glove_improved.hdf5\n",
            "Epoch 2/6\n",
            "219/219 [==============================] - 422s 2s/step - loss: 0.4072 - accuracy: 0.8154 - auc: 0.8898 - val_loss: 0.4955 - val_accuracy: 0.7740 - val_auc: 0.8575\n",
            "\n",
            "Epoch 00002: val_accuracy improved from 0.70300 to 0.77400, saving model to best_model_glove_improved.hdf5\n",
            "Epoch 3/6\n",
            "219/219 [==============================] - 421s 2s/step - loss: 0.2058 - accuracy: 0.9211 - auc: 0.9726 - val_loss: 0.6285 - val_accuracy: 0.7710 - val_auc: 0.8523\n",
            "\n",
            "Epoch 00003: val_accuracy did not improve from 0.77400\n",
            "Epoch 4/6\n",
            "219/219 [==============================] - 421s 2s/step - loss: 0.1118 - accuracy: 0.9589 - auc: 0.9907 - val_loss: 0.7184 - val_accuracy: 0.7800 - val_auc: 0.8398\n",
            "\n",
            "Epoch 00004: val_accuracy improved from 0.77400 to 0.78000, saving model to best_model_glove_improved.hdf5\n",
            "Epoch 5/6\n",
            "219/219 [==============================] - 423s 2s/step - loss: 0.0724 - accuracy: 0.9711 - auc: 0.9965 - val_loss: 0.7672 - val_accuracy: 0.7610 - val_auc: 0.8311\n",
            "\n",
            "Epoch 00005: val_accuracy did not improve from 0.78000\n"
          ]
        }
      ]
    },
    {
      "cell_type": "code",
      "metadata": {
        "id": "irH8patjSC8z",
        "colab": {
          "base_uri": "https://localhost:8080/",
          "height": 295
        },
        "outputId": "a63a9441-f460-4111-ee1f-d2309805db12"
      },
      "source": [
        "# training and validation Loss function\n",
        "plt.plot(historic_bilstm_improved_glove.history['loss'])\n",
        "plt.plot(historic_bilstm_improved_glove.history['val_loss'])\n",
        "plt.title('Bi-LSTM glove improved loss/epoch')\n",
        "plt.ylabel('loss')\n",
        "plt.xlabel('epoch')\n",
        "plt.legend(['train set', 'validation set'], loc='upper left')\n",
        "plt.show()"
      ],
      "id": "irH8patjSC8z",
      "execution_count": 42,
      "outputs": [
        {
          "output_type": "display_data",
          "data": {
            "image/png": "[encoded data removed]",
            "text/plain": [
              "<Figure size 432x288 with 1 Axes>"
            ]
          },
          "metadata": {
            "needs_background": "light"
          }
        }
      ]
    },
    {
      "cell_type": "code",
      "metadata": {
        "id": "CbrQzJ7SSDv6",
        "colab": {
          "base_uri": "https://localhost:8080/",
          "height": 295
        },
        "outputId": "06035ee5-6dca-43c4-d586-a2d940689caf"
      },
      "source": [
        "# training and validation accuracy function\n",
        "plt.plot(historic_bilstm_improved_glove.history['accuracy'])\n",
        "plt.plot(historic_bilstm_improved_glove.history['val_accuracy'])\n",
        "plt.title('Bi-LSTM glove improved accuracy/epoch')\n",
        "plt.ylabel('accuracy')\n",
        "plt.xlabel('epoch')\n",
        "plt.legend(['train set', 'validation set'], loc='upper left')\n",
        "plt.show()"
      ],
      "id": "CbrQzJ7SSDv6",
      "execution_count": 43,
      "outputs": [
        {
          "output_type": "display_data",
          "data": {
            "image/png": "[encoded data removed]",
            "text/plain": [
              "<Figure size 432x288 with 1 Axes>"
            ]
          },
          "metadata": {
            "needs_background": "light"
          }
        }
      ]
    },
    {
      "cell_type": "markdown",
      "metadata": {
        "id": "Ep1rxpGwLRws"
      },
      "source": [
        "###### evaluation"
      ],
      "id": "Ep1rxpGwLRws"
    },
    {
      "cell_type": "markdown",
      "metadata": {
        "id": "M04HgoOs44Rv"
      },
      "source": [
        "résultat du training du ipynb"
      ],
      "id": "M04HgoOs44Rv"
    },
    {
      "cell_type": "code",
      "metadata": {
        "colab": {
          "base_uri": "https://localhost:8080/"
        },
        "id": "RWljDxxs425I",
        "outputId": "af8af9ff-169b-4316-ba0c-1006f4da77bc"
      },
      "source": [
        "model_bi_lstm_improved_glove = load_model('best_model_glove_improved.hdf5') \n",
        "Y_test_bilstm_glove_improved = model_bi_lstm_improved_glove.predict(x_test_tokenized_imp)\n",
        "\n",
        "y_test_pred_bilstm_glove_imp = np.where(Y_test_bilstm_glove_improved.flatten() > 0.5, 1, 0)\n",
        "y_test_target_bilstm_glove_imp = np.array(y_test)\n",
        "\n",
        "# tabs classification metrics\n",
        "print(\"classification report for bi-lstm glove on test set\")\n",
        "print(classification_report(y_test_target_bilstm_glove_imp, y_test_pred_bilstm_glove_imp))\n",
        "\n",
        "# Confusion matrix\n",
        "C_bilstm_glove_imp = confusion_matrix(y_test_pred_bilstm_glove_imp, y_test_target_bilstm_glove_imp)\n",
        "print(\"Confusion matrix Bi-lstm glove:\", C_bilstm_glove_imp, sep=\"\\n\")\n",
        "\n",
        "# Accuracy\n",
        "metric = keras.metrics.Accuracy()\n",
        "metric.update_state(y_test_target_bilstm_glove_imp,y_test_pred_bilstm_glove_imp)\n",
        "acc_bilstm_glove_imp = metric.result().numpy()\n",
        "print(\"Accuracy of the Bi-LSTM glove:\", acc_bilstm_glove_imp, sep=\"\\n\")"
      ],
      "id": "RWljDxxs425I",
      "execution_count": 61,
      "outputs": [
        {
          "output_type": "stream",
          "name": "stdout",
          "text": [
            "classification report for bi-lstm glove on test set\n",
            "              precision    recall  f1-score   support\n",
            "\n",
            "           0       0.77      0.88      0.82      1172\n",
            "           1       0.79      0.62      0.70       828\n",
            "\n",
            "    accuracy                           0.78      2000\n",
            "   macro avg       0.78      0.75      0.76      2000\n",
            "weighted avg       0.78      0.78      0.77      2000\n",
            "\n",
            "Confusion matrix Bi-lstm glove:\n",
            "[[1033  311]\n",
            " [ 139  517]]\n",
            "Accuracy of the Bi-LSTM glove:\n",
            "0.775\n"
          ]
        }
      ]
    },
    {
      "cell_type": "markdown",
      "metadata": {
        "id": "ZgVFb1ka4mUh"
      },
      "source": [
        "### 5.4. Évaluation (10%)"
      ],
      "id": "ZgVFb1ka4mUh"
    },
    {
      "cell_type": "markdown",
      "metadata": {
        "id": "2zaqgAEE4mUh"
      },
      "source": [
        "1. (4 points) Affichez une table récapitulative comparant les performances de vos différents modèles sur l’ensemble de test."
      ],
      "id": "2zaqgAEE4mUh"
    },
    {
      "cell_type": "code",
      "metadata": {
        "id": "WMynAsnUUcjH"
      },
      "source": [
        "acc_nb = gs_clf_nb.best_score_\n",
        "acc_lr = gs_clf_lr.best_score_"
      ],
      "id": "WMynAsnUUcjH",
      "execution_count": 45,
      "outputs": []
    },
    {
      "cell_type": "code",
      "metadata": {
        "id": "5rJF2Tkf4mUh",
        "colab": {
          "base_uri": "https://localhost:8080/",
          "height": 80
        },
        "outputId": "dabb5cc3-383b-42db-fe10-3706345a217f"
      },
      "source": [
        "# Print the log likelihoods \n",
        "all_results = {'Naive bayes' : acc_nb,\n",
        "               'logistic regression' : acc_lr,\n",
        "               'BILSTM no pretrained embedding' : acc_bilstm_1,\n",
        "               'GLOVE BILSTM' : acc_bilstm_glove,\n",
        "               'Improved BILSTM' : acc_bilstm_glove_imp}\n",
        "df = pd.DataFrame(all_results, columns = ['Naive bayes','logistic regression','BILSTM no pretrained embedding','GLOVE BILSTM','Improved BILSTM'], index=['models'])\n",
        "df"
      ],
      "id": "5rJF2Tkf4mUh",
      "execution_count": 62,
      "outputs": [
        {
          "output_type": "execute_result",
          "data": {
            "text/html": [
              "<div>\n",
              "<style scoped>\n",
              "    .dataframe tbody tr th:only-of-type {\n",
              "        vertical-align: middle;\n",
              "    }\n",
              "\n",
              "    .dataframe tbody tr th {\n",
              "        vertical-align: top;\n",
              "    }\n",
              "\n",
              "    .dataframe thead th {\n",
              "        text-align: right;\n",
              "    }\n",
              "</style>\n",
              "<table border=\"1\" class=\"dataframe\">\n",
              "  <thead>\n",
              "    <tr style=\"text-align: right;\">\n",
              "      <th></th>\n",
              "      <th>Naive bayes</th>\n",
              "      <th>logistic regression</th>\n",
              "      <th>BILSTM no pretrained embedding</th>\n",
              "      <th>GLOVE BILSTM</th>\n",
              "      <th>Improved BILSTM</th>\n",
              "    </tr>\n",
              "  </thead>\n",
              "  <tbody>\n",
              "    <tr>\n",
              "      <th>models</th>\n",
              "      <td>0.813375</td>\n",
              "      <td>0.7875</td>\n",
              "      <td>0.7735</td>\n",
              "      <td>0.7865</td>\n",
              "      <td>0.775</td>\n",
              "    </tr>\n",
              "  </tbody>\n",
              "</table>\n",
              "</div>"
            ],
            "text/plain": [
              "        Naive bayes  logistic regression  ...  GLOVE BILSTM  Improved BILSTM\n",
              "models     0.813375               0.7875  ...        0.7865            0.775\n",
              "\n",
              "[1 rows x 5 columns]"
            ]
          },
          "metadata": {},
          "execution_count": 62
        }
      ]
    },
    {
      "cell_type": "markdown",
      "metadata": {
        "id": "99V5g3yK4mUh"
      },
      "source": [
        "2. (6 points) Indiquez votre conclusion dans une cellule (Meilleur algorithme? Meilleure configuration pour l’apprentissage machine «traditionnel»? Effets du GridSearch? Meilleur modèle Bi-LSTM?)"
      ],
      "id": "99V5g3yK4mUh"
    },
    {
      "cell_type": "code",
      "metadata": {
        "colab": {
          "base_uri": "https://localhost:8080/",
          "height": 371
        },
        "id": "Tz94-PDSfnm6",
        "outputId": "0613dc85-8fa7-4cc2-e2c3-4939ce557215"
      },
      "source": [
        "#plot des distributions des données\n",
        "import seaborn as sns\n",
        "import matplotlib.pyplot as plt\n",
        "\n",
        "#print general data\n",
        "nb_train = len(train_data)\n",
        "label_0=len(train_data[train_data[\"gender\"] == \"male\"])\n",
        "label_1=len(train_data[train_data[\"gender\"] == \"female\"])\n",
        "print('nb male: {0}\\tnb female: {1}\\tnb of data: {2}'.format(label_0, label_1, nb_train))\n",
        "\n",
        "# donnée complémentaire\n",
        "print(\"ratio target homme/ target femme\", label_0/label_1)\n",
        "\n",
        "#plot class distribution\n",
        "sns.set_style('darkgrid')\n",
        "fig, ax = plt.subplots(figsize=(10,5))\n",
        "sns.barplot(x=[0,1],y=[label_0, label_1],palette='Blues_r',ax=ax)"
      ],
      "id": "Tz94-PDSfnm6",
      "execution_count": 50,
      "outputs": [
        {
          "output_type": "stream",
          "name": "stdout",
          "text": [
            "nb male: 4148\tnb female: 2852\tnb of data: 7000\n",
            "ratio target homme/ target femme 1.4544179523141656\n"
          ]
        },
        {
          "output_type": "execute_result",
          "data": {
            "text/plain": [
              "<matplotlib.axes._subplots.AxesSubplot at 0x7fc8417359d0>"
            ]
          },
          "metadata": {},
          "execution_count": 50
        },
        {
          "output_type": "display_data",
          "data": {
            "image/png": "[encoded data removed]",
            "text/plain": [
              "<Figure size 720x360 with 1 Axes>"
            ]
          },
          "metadata": {}
        }
      ]
    },
    {
      "cell_type": "markdown",
      "metadata": {
        "id": "nd7dXIoEadet"
      },
      "source": [
        "Les datasets ont des distributions assez similaires à première vue. Les distributions des topics sont assez similaires même si les sujets principaux ne sont pas exactement les mêmes et les nombres de types sont à peu près équivalents. \n",
        "\n",
        "Pour la classification traditionnelle, on voit avec les paramètres par défaut et notre prétraitement avec tokenisation par mots, passage en minuscule et suppression des “stop words”, que les performances sont déjà assez satisfaisantes. Accuracy de 0.78 pour naive bayes et 0.80 pour la régression logistique. L’utilisation d’unigram uniquement ou d’un mélange d’unigrams et de bigrams n’influence quasiment pas les performances des deux classificateurs. \n",
        "\n",
        "On utilise ensuite une recherche d'hyper paramètres avec grid search et une validation croisée: \n",
        "- Pour le classificateur Naive Bayes nous avons testé 360 paramètres différents et nous avons obtenus un meilleurs score de 0.81 avec un prétraitement sans mise en minuscule, tokenization par mot, vectorisation par TFIDF pas de limite de vocabulaire, des unigrams uniquement et un paramètre alpha de 1 pour le classificateur, ce qui était déjà la valeur par défaut. Ainsi, l’amélioration est due à la non suppression des stop words et à la non mise en minuscule. \n",
        "\n",
        "- Pour la régression linéaire, nous avons testé 288 paramètres différents et nous avons obtenu un meilleur score de 0.79 avec encore une fois une tokenization par mot, des unigrams uniquement, pas de limite de vocabulaire, l’utilisation de TFIDF mais la mise en minuscule. Le modèle obtenu utilise une pénalité l2, ce qui est le paramètre par défaut utilisé précédemment. Contrairement au cas Naive Bayes, grid search ne nous a pas fourni un meilleur score que le modèle par défaut malgré les nombreux paramètres testés. On peut en déduire que la régression logistique est très sensible aux stop words contrairement à Naive Bayes. \n",
        "\n",
        "Pour la classification neuronale, nous avons d’abord testé un modèle bi-LSTM sans plongement lexicale et sans méthode de limitation du surapprentissage (sans gridsearch). Ce modèle est d’une part beaucoup plus long à entraîner que les modèles suivants mais il obtient également un score moindre de 0.77 car on observe de l’overfitting très tôt dans l'entraînement, autour de la première époque déjà.\n",
        "\n",
        "Nous avons ensuite testé un modèle semblable mais qui utilise les vecteurs pré entraînés de GloVe. Comme ces vecteurs sont de tailles 300 alors que nous utilisions des vecteurs de taille 100 précédemment, l'entraînement est encore plus long. Mais l’accuracy augmente un peu, avec une précision de 0.79. Cette performance est équivalente à notre meilleur modèle de régression logistique et très légèrement inférieure à celle de notre meilleur Naive Bayes. Cependant on observe encore un overfitting important très tôt dans l'entraînement qui limite fortement la possibilité pour le modèle de s’améliorer.\n",
        "\n",
        "Enfin, nous utilisons à nouveau un modèle semblable au précédent mais en ajoutant plusieurs couches de dropout pour limiter l’overfitting et espérer continuer l’entrainement plus longtemps pour améliorer l’accuracy. De plus, nous retirons les stopwords de ponctuations dans le prétraitement. Nous observons alors une accuracy de 0.82 ce qui nous fournis notre meilleur modèle jusqu’à présent. Ici sur le notebook on a toutefois obtenu 0.775, car selon les entrainements on n'a pas toujours les même résultats.\n",
        "\n",
        "Ainsi, on a pu observé que le naive bayes performe très bien avec des stop words et obtient un score maximal de 0.81, la regression logistique elle est plus performante sans stop words et obtient jusqu’à 0.80 d’accuracy. Les méthodes neuronales sont plus longues à entraîner et demande plus de mémoire notamment lors de l’utilisation de plongements prédéfinis de grande dimension, et sont de plus très sensibles au surapprentissage. Cependant, on a réussi en ajoutant des méthodes de limitations du surapprentissage à obtenir le meilleur modèle avec une accuracy de 0.82.\n",
        "\n",
        "Finalement il faut noter que tous les modèles ont une précision plus élevé que le recall pour la classe “femme”, et un recall plus grand que la précision pour la classe “homme”. Cela signifie que les modèles vont plus facilement classifier dans la classe “homme” que “femme”. On peut l’expliquer par le léger déséquilibre entre ces deux classes dans les données d'entraînement, environ 1.5 fois plus de données de la classe “homme”. On pourrait régler ce problème par exemple en appliquant des pénalités supplémentaires pour le fait de classifier dans la classe “homme”. En tout cas, il est important de garder en tête ce biais pour l’utilisation des ces modèles en pratique. \n"
      ],
      "id": "nd7dXIoEadet"
    },
    {
      "cell_type": "markdown",
      "metadata": {
        "id": "KDo-ThyK37eU"
      },
      "source": [
        "### conversion en html"
      ],
      "id": "KDo-ThyK37eU"
    },
    {
      "cell_type": "code",
      "metadata": {
        "id": "WQydK5JT3kMq",
        "colab": {
          "base_uri": "https://localhost:8080/",
          "height": 35
        },
        "outputId": "b3563933-bd45-458a-89ed-813d298b197e"
      },
      "source": [
        "'''\n",
        "%%shell\n",
        "jupyter nbconvert --to html /content/TP2_lab02_05 (2).ipynb\n",
        "'''"
      ],
      "id": "WQydK5JT3kMq",
      "execution_count": 63,
      "outputs": [
        {
          "output_type": "execute_result",
          "data": {
            "application/vnd.google.colaboratory.intrinsic+json": {
              "type": "string"
            },
            "text/plain": [
              "'\\n%%shell\\njupyter nbconvert --to html /content/TP2_lab02_05 (2).ipynb\\n'"
            ]
          },
          "metadata": {},
          "execution_count": 63
        }
      ]
    },
    {
      "cell_type": "markdown",
      "metadata": {
        "id": "1taD2IttGQM5"
      },
      "source": [
        "### ANNEXE : code du w2vec pour la question 10"
      ],
      "id": "1taD2IttGQM5"
    },
    {
      "cell_type": "markdown",
      "metadata": {
        "id": "S9NGNg6czCpK"
      },
      "source": [
        "cette annexe montre le code du w2vec, il n'a pas été tourné car ses résultats ne sont pas meilleurs."
      ],
      "id": "S9NGNg6czCpK"
    },
    {
      "cell_type": "markdown",
      "metadata": {
        "id": "GGay4R85G6Et"
      },
      "source": [
        "##### definition du modéle"
      ],
      "id": "GGay4R85G6Et"
    },
    {
      "cell_type": "code",
      "metadata": {
        "id": "EKeTmQzGGc3d"
      },
      "source": [
        "### AVEC word2vec\n",
        "def bi_lstm_word2vec_model(nb_words,\n",
        "                        embedding_matrix,\n",
        "                        max_seq_len,\n",
        "                  lstm_units,\n",
        "                  dropout_rate,\n",
        "                  embeded_dim): #boolean to use dropout or not\n",
        "  \n",
        "    # define the layers.\n",
        "    inputs = keras.Input(shape=(None,), dtype=\"int32\")\n",
        "\n",
        "    x = layers.Embedding(input_dim=nb_words, output_dim=embeded_dim, weights=[embedding_matrix],input_length=max_seq_len)(inputs) #,trainable=False\n",
        "    x = layers.Bidirectional(layers.LSTM(units=lstm_units,return_sequences=True))(x) #,dropout=dropout_rate\n",
        "    x = layers.Bidirectional(layers.LSTM(units=lstm_units))(x)\n",
        "    \n",
        "    outputs = layers.Dense(1, activation=\"sigmoid\")(x)\n",
        "\n",
        "    model = keras.Model(inputs=inputs, outputs=outputs)\n",
        "    return model"
      ],
      "id": "EKeTmQzGGc3d",
      "execution_count": null,
      "outputs": []
    },
    {
      "cell_type": "code",
      "metadata": {
        "id": "HXcrpv5LGfOq"
      },
      "source": [
        "embeded_dim_w2vec=300\n",
        "w2v_model = gensim.models.Word2Vec(sentences =x_train_imp, \n",
        "                                   size = embeded_dim_w2vec, \n",
        "                                   window=5,\n",
        "                                   sg = 1,  # 1 for skipgram and 0 for Cbow\n",
        "                                   min_count=5,\n",
        "                                   workers=32)"
      ],
      "id": "HXcrpv5LGfOq",
      "execution_count": null,
      "outputs": []
    },
    {
      "cell_type": "code",
      "metadata": {
        "id": "f_uola_eGjhb"
      },
      "source": [
        "embedding_matrix_w2vec = np.zeros((nb_words_imp, embeded_dim_w2vec))\n",
        "\n",
        "for word, token in tokenizer.word_index.items():\n",
        "    if w2v_model.wv.__contains__(word):\n",
        "        embedding_matrix_w2vec[token] = w2v_model.wv.__getitem__(word)\n",
        "\n",
        "print(\"Embedding Matrix Shape:\", embedding_matrix_w2vec.shape)"
      ],
      "id": "f_uola_eGjhb",
      "execution_count": null,
      "outputs": []
    },
    {
      "cell_type": "code",
      "metadata": {
        "id": "adSF-pMwGl42"
      },
      "source": [
        "## TUNING PARAMETERS ##\n",
        "lstm_units = 64\n",
        "dropout_rate = 0.3\n",
        "max_seq_len_imp_=300\n",
        "nb_words_imp\n",
        "\n",
        "model_bi_lstm_improved_word2vec = bi_lstm_word2vec_model(nb_words_imp,embedding_matrix_w2vec,max_seq_len_imp, lstm_units,dropout_rate,embeded_dim_w2vec)\n",
        "\n",
        "# compile the model\n",
        "model_bi_lstm_improved_word2vec.compile(optimizer='adam', loss='binary_crossentropy', metrics=['accuracy','AUC'])\n",
        "# summarize the model\n",
        "print(model_bi_lstm_improved_word2vec.summary())"
      ],
      "id": "adSF-pMwGl42",
      "execution_count": null,
      "outputs": []
    },
    {
      "cell_type": "code",
      "metadata": {
        "id": "7PFs1pgGGoDG"
      },
      "source": [
        "#defining the checkpoint\n",
        "checkpoint4 = ModelCheckpoint(\"best_model_word2vec.hdf5\", monitor='val_accuracy', verbose=1,save_best_only=True, mode='auto', period=1,save_weights_only=False)\n",
        "callback4 = EarlyStopping(monitor='val_loss', patience=3)\n",
        "\n",
        "historic_bilstm_improved_word2vec = model_bi_lstm_improved_word2vec.fit(x_train_tokenized_imp, y_train, batch_size=32, epochs=10, validation_data=(x_val_tokenized_imp, y_val), callbacks=[checkpoint4,callback4])"
      ],
      "id": "7PFs1pgGGoDG",
      "execution_count": null,
      "outputs": []
    },
    {
      "cell_type": "markdown",
      "metadata": {
        "id": "MFY2rBIo9p81"
      },
      "source": [
        "##### Evaluation sur le test set"
      ],
      "id": "MFY2rBIo9p81"
    },
    {
      "cell_type": "code",
      "metadata": {
        "id": "Lc6F1eGMK118"
      },
      "source": [
        "# training and validation Loss function\n",
        "plt.plot(historic_bilstm_improved_word2vec.history['loss'])\n",
        "plt.plot(historic_bilstm_improved_word2vec.history['val_loss'])\n",
        "plt.title('Bi-LSTM glove loss/epoch')\n",
        "plt.ylabel('loss')\n",
        "plt.xlabel('epoch')\n",
        "plt.legend(['train set', 'validation set'], loc='upper left')\n",
        "plt.show()"
      ],
      "id": "Lc6F1eGMK118",
      "execution_count": null,
      "outputs": []
    },
    {
      "cell_type": "code",
      "metadata": {
        "id": "4n18n33ILK5u"
      },
      "source": [
        "# training and validation accuracy function\n",
        "plt.plot(historic_bilstm_improved_word2vec.history['accuracy'])\n",
        "plt.plot(historic_bilstm_improved_word2vec.history['val_accuracy'])\n",
        "plt.title('Bi-LSTM glove accuracy/epoch')\n",
        "plt.ylabel('accuracy')\n",
        "plt.xlabel('epoch')\n",
        "plt.legend(['train set', 'validation set'], loc='upper left')\n",
        "plt.show()"
      ],
      "id": "4n18n33ILK5u",
      "execution_count": null,
      "outputs": []
    },
    {
      "cell_type": "code",
      "metadata": {
        "id": "7ROr8e769pWe"
      },
      "source": [
        "model_bi_lstm_w2vec = load_model(\"best_model_word2vec.hdf5\")\n",
        "#Y_test_bilstm_w2vec = model_bi_lstm_w2vec.predict(test_wordw2v)\n",
        "Y_test_bilstm_w2vec = model_bi_lstm_w2vec.predict(x_test_tokenized_imp)\n",
        "\n",
        "y_test_pred_bilstm_w2vec = np.where(Y_test_bilstm_w2vec.flatten() > 0.5, 1, 0)\n",
        "y_test_target_bilstm_w2vec = np.array(y_test)\n",
        "\n",
        "# tabs classification metrics\n",
        "print(\"classification report for bi-lstm glove on test set\")\n",
        "print(classification_report(y_test_target_bilstm_w2vec, y_test_pred_bilstm_w2vec))\n",
        "\n",
        "# Confusion matrix\n",
        "C_bilstm_w2vec= confusion_matrix(y_test_pred_bilstm_w2vec, y_test_target_bilstm_w2vec)\n",
        "print(\"Confusion matrix Bi-lstm glove:\", C_bilstm_w2vec, sep=\"\\n\")\n",
        "\n",
        "# Accuracy\n",
        "metric = keras.metrics.Accuracy()\n",
        "metric.update_state(y_test_target_bilstm_w2vec,y_test_pred_bilstm_w2vec)\n",
        "acc_bilstm_w2vec = metric.result().numpy()\n",
        "print(\"Accuracy of the Bi-LSTM glove:\", acc_bilstm_w2vec, sep=\"\\n\")"
      ],
      "id": "7ROr8e769pWe",
      "execution_count": null,
      "outputs": []
    }
  ]
}